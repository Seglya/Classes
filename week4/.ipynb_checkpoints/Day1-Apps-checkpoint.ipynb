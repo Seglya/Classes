{
 "cells": [
  {
   "cell_type": "code",
   "execution_count": 2,
   "metadata": {},
   "outputs": [
    {
     "name": "stdout",
     "output_type": "stream",
     "text": [
      "Dataset Apps_for_Android has already been downloaded to ./data/\n"
     ]
    }
   ],
   "source": [
    "%matplotlib inline\n",
    "datadir= './data/'\n",
    "\n",
    "import urllib.request, os, gzip\n",
    "\n",
    "def download_data(dataset_name, datadir):\n",
    "    filename = 'reviews_%s_5.json' % dataset_name\n",
    "    filepath = os.path.join(datadir, filename)\n",
    "    if os.path.exists(filepath):\n",
    "        print(\"Dataset %s has already been downloaded to %s\" % (dataset_name, datadir))\n",
    "    else:\n",
    "        url = 'http://snap.stanford.edu/data/amazon/productGraph/categoryFiles/%s.gz' % filename\n",
    "        urllib.request.urlretrieve(url, filepath + \".gz\")\n",
    "        with gzip.open(filepath + \".gz\", 'rb') as fin:\n",
    "            with open(filepath, 'wb') as fout:\n",
    "                fout.write(fin.read())\n",
    "        print(\"Downloaded dataset %s and saved it to %s\" % (dataset_name, datadir))\n",
    "dataset=\"Apps_for_Android\"\n",
    "download_data(dataset,datadir)"
   ]
  },
  {
   "cell_type": "code",
   "execution_count": 4,
   "metadata": {},
   "outputs": [
    {
     "name": "stdout",
     "output_type": "stream",
     "text": [
      "Loades 752937 data for dataset Apps_for_Android\n",
      "{'reviewerID': 'A37ZP4RA4ERTG2', 'asin': 'B004GYYQLA', 'reviewerName': 'Cookie', 'helpful': [7, 8], 'reviewText': \"I don't mind ads as much as others so that wasn't a big deal, but it asked for all of this information about you, like your e-mail and zip code, so I deleted it. This ad is not for people who dislike giving out their information.\", 'overall': 1.0, 'summary': 'Asks for your info', 'unixReviewTime': 1325289600, 'reviewTime': '12 31, 2011', 'hash': 1805109379}\n"
     ]
    }
   ],
   "source": [
    "import json\n",
    "\n",
    "def load_data(dataset_name, datadir):\n",
    "    filename = 'reviews_%s_5.json' % dataset_name\n",
    "    filepath = os.path.join(datadir, filename)\n",
    "    if not os.path.exists(filepath):\n",
    "        download_data(dataset_name, datadir)\n",
    "    data=[]\n",
    "    with open(filepath,'r') as f: #read file line by line\n",
    "        for line in f:\n",
    "            item_hash=hash(line)\n",
    "            item=json.loads(line)  #convert json to Python dict\n",
    "            item['hash']=item_hash   #add hash fo indentification purposes\n",
    "            data.append(item)\n",
    "    print(\"Loades %d data for dataset %s\" %(len(data), dataset_name))\n",
    "    return data\n",
    "\n",
    "#load the data...\n",
    "apps=load_data(dataset, datadir)\n",
    "#...and have a look at an example item (item number 9426):\n",
    "print(apps[9426])\n",
    "    "
   ]
  },
  {
   "cell_type": "code",
   "execution_count": 5,
   "metadata": {},
   "outputs": [
    {
     "name": "stdout",
     "output_type": "stream",
     "text": [
      "Now we have 451478 training exemples, 150630 validation exemples and 150829 test exemples\n"
     ]
    }
   ],
   "source": [
    "def partition_train_validation_test(data):\n",
    "    #60% : modulus is 0,1, 2, 3, 4, or 5\n",
    "    data_train=[item for item in data if item['hash']%10<=5]\n",
    "    # 20% : modulus is 6, or 7\n",
    "    data_valid=[item for item in data if item['hash']%10 in [6,7]]\n",
    "    # 20% : modulus is 8 or 9\n",
    "    data_test = [item for item in data if item['hash']%10 in [8,9]]\n",
    "    return data_train, data_valid, data_test\n",
    "\n",
    "apps_train, apps_valid, apps_test = partition_train_validation_test(apps)\n",
    "print(\"Now we have\", len(apps_train), \"training exemples,\", len(apps_valid),\n",
    "      \"validation exemples and\", len(apps_test), \"test exemples\")"
   ]
  },
  {
   "cell_type": "code",
   "execution_count": 7,
   "metadata": {},
   "outputs": [
    {
     "name": "stdout",
     "output_type": "stream",
     "text": [
      "some positive words: seasoned,protection,renaissance,heroine,zenith,respite,agreeableness,low-priced,thoughtfully,streamlined\n",
      "some negative words: setback,cunts,inability,insufferable,arrogant,devastation,emaciated,misery,droops,inconceivably\n"
     ]
    }
   ],
   "source": [
    "from nltk.corpus import opinion_lexicon\n",
    "pos_words = set(opinion_lexicon.positive())\n",
    "neg_words = set(opinion_lexicon.negative())\n",
    "\n",
    "import random\n",
    "random.seed(1234)\n",
    "print(\"some positive words:\", \",\".join(random.sample(pos_words, 10)))\n",
    "print(\"some negative words:\", \",\".join(random.sample(neg_words, 10)))"
   ]
  },
  {
   "cell_type": "code",
   "execution_count": 8,
   "metadata": {},
   "outputs": [
    {
     "name": "stdout",
     "output_type": "stream",
     "text": [
      "Both: enviousness,envious,enviously\n"
     ]
    }
   ],
   "source": [
    "intersection= pos_words & neg_words\n",
    "print(\"Both:\", \",\".join(intersection))"
   ]
  },
  {
   "cell_type": "code",
   "execution_count": 9,
   "metadata": {},
   "outputs": [
    {
     "name": "stdout",
     "output_type": "stream",
     "text": [
      "(0.8571428571428571, 0.0)\n",
      "(0.0, 0.8571428571428571)\n"
     ]
    }
   ],
   "source": [
    "from nltk.corpus import stopwords\n",
    "from nltk.tokenize import sent_tokenize, word_tokenize\n",
    "eng_stopwords = set(stopwords.words('english'))\n",
    "\n",
    "def my_tokenize(text):\n",
    "    # split text into lower-case tokens, remowing all punctuation tokens and stopwords\n",
    "    tokens=[]\n",
    "    for sentence in sent_tokenize(text):\n",
    "        tokens.extend( x for x in word_tokenize(sentence.lower())\n",
    "                     if x not in eng_stopwords and any(i.isalpha() for i in x))\n",
    "    return tokens\n",
    "        \n",
    "def pos_neg_fraction(text):\n",
    "    tokens=my_tokenize(text)\n",
    "    count_pos, count_neg=0,0\n",
    "    for t in tokens:\n",
    "        if t in pos_words:\n",
    "            count_pos+=1\n",
    "        if t in neg_words:\n",
    "            count_neg+=1\n",
    "    count_all=len(tokens)\n",
    "    if count_all==0:\n",
    "        return 0.0,0.\n",
    "    return count_pos/count_all, count_neg/count_all\n",
    "\n",
    "pos_example = 'This is a good, great, fantastic, amazing, wonderful, super product!!!'\n",
    "neg_example = 'This is a bad, atrocious, terrible, dreadful, awful, abysmal product!!!'\n",
    "print(pos_neg_fraction(pos_example))\n",
    "print(pos_neg_fraction(neg_example))"
   ]
  },
  {
   "cell_type": "code",
   "execution_count": 11,
   "metadata": {},
   "outputs": [
    {
     "name": "stdout",
     "output_type": "stream",
     "text": [
      "We found a fraction of 100.000000 % positive words for example 1735\n",
      "{'reviewerID': 'A1Q19JB1PE2V5V', 'asin': 'B004DPC5Y2', 'reviewerName': 'Artemis Antoninis', 'helpful': [0, 0], 'reviewText': 'Not fun', 'overall': 1.0, 'summary': 'Bleh', 'unixReviewTime': 1405036800, 'reviewTime': '07 11, 2014', 'hash': -591005410}\n",
      "We found a fraction of 100.000000 % negative words for example 6529\n",
      "{'reviewerID': 'A1HZYCWWJ53TS5', 'asin': 'B004HE5TAG', 'helpful': [0, 0], 'reviewText': 'boring', 'overall': 2.0, 'summary': 'Two Stars', 'unixReviewTime': 1405382400, 'reviewTime': '07 15, 2014', 'hash': 480067413}\n"
     ]
    }
   ],
   "source": [
    "import numpy\n",
    "\n",
    "def dataset_to_matrix(data):\n",
    "    return numpy.array([list(pos_neg_fraction(item['reviewText'])) for item in data])\n",
    "\n",
    "X_train = dataset_to_matrix(apps_train)\n",
    "most_pos, most_neg = numpy.argmax(X_train, axis=0)\n",
    "# print the example with the highest fraction of positive words:\n",
    "print(\"We found a fraction of %f %% positive words for example %d\" % \n",
    "      (100.*X_train[most_pos, 0], most_pos))\n",
    "print(apps_train[most_pos])\n",
    "print(\"We found a fraction of %f %% negative words for example %d\" %\n",
    "      (100.*X_train[most_neg, 1], most_neg))\n",
    "print(apps_train[most_neg])"
   ]
  },
  {
   "cell_type": "code",
   "execution_count": 12,
   "metadata": {},
   "outputs": [
    {
     "name": "stdout",
     "output_type": "stream",
     "text": [
      "Our feature matrix is two-dimensional and has shape (451478, 2)\n",
      "Our target vector is one-dimensional and has shape (451478,)\n"
     ]
    }
   ],
   "source": [
    "def dataset_to_targets(data):\n",
    "    return numpy.array([item['overall'] for item in data])\n",
    "\n",
    "Y_train = dataset_to_targets(apps_train)\n",
    "print(\"Our feature matrix is two-dimensional and has shape\", X_train.shape)\n",
    "print(\"Our target vector is one-dimensional and has shape\", Y_train.shape)"
   ]
  },
  {
   "cell_type": "code",
   "execution_count": 13,
   "metadata": {},
   "outputs": [
    {
     "data": {
      "text/plain": [
       "<matplotlib.axes._subplots.AxesSubplot at 0x120eaf0>"
      ]
     },
     "execution_count": 13,
     "metadata": {},
     "output_type": "execute_result"
    },
    {
     "data": {
      "image/png": "[encoded data removed]",
      "text/plain": [
       "<Figure size 432x288 with 1 Axes>"
      ]
     },
     "metadata": {},
     "output_type": "display_data"
    }
   ],
   "source": [
    "import pandas\n",
    "pandas.Series(Y_train).value_counts().plot.bar()"
   ]
  },
  {
   "cell_type": "code",
   "execution_count": 14,
   "metadata": {},
   "outputs": [
    {
     "data": {
      "text/plain": [
       "<matplotlib.axes._subplots.AxesSubplot at 0x1573250>"
      ]
     },
     "execution_count": 14,
     "metadata": {},
     "output_type": "execute_result"
    },
    {
     "data": {
      "image/png": "[encoded data removed]",
      "text/plain": [
       "<Figure size 432x288 with 1 Axes>"
      ]
     },
     "metadata": {},
     "output_type": "display_data"
    }
   ],
   "source": [
    "df = pandas.DataFrame(data=X_train, columns = ['fpos', 'fneg'])\n",
    "df.plot.kde(xlim=(-0.05, 0.5))"
   ]
  },
  {
   "cell_type": "code",
   "execution_count": 16,
   "metadata": {},
   "outputs": [
    {
     "name": "stdout",
     "output_type": "stream",
     "text": [
      "The coefficient for the fpos variable is 3.77745796948437\n",
      "The coefficient for the fneg variable is -3.938040624950183\n",
      "The intercept is 3.5458058088971236\n"
     ]
    }
   ],
   "source": [
    "from  sklearn.linear_model import LinearRegression\n",
    "lreg = LinearRegression().fit(X_train, Y_train)\n",
    "\n",
    "print(\"The coefficient for the fpos variable is\", lreg.coef_[0])\n",
    "print(\"The coefficient for the fneg variable is\", lreg.coef_[1])\n",
    "print(\"The intercept is\", lreg.intercept_)"
   ]
  },
  {
   "cell_type": "code",
   "execution_count": 18,
   "metadata": {},
   "outputs": [
    {
     "name": "stdout",
     "output_type": "stream",
     "text": [
      "The expected rating is 4.301297 stars\n",
      "This is the same as 4.301297 stars\n"
     ]
    }
   ],
   "source": [
    "features = [[0.2, 0]]\n",
    "expected_rating_A = lreg.predict(features)[0]\n",
    "print(\"The expected rating is %f stars\" % expected_rating_A)\n",
    "# we can also compute this explicitly:\n",
    "expected_rating_B = lreg.intercept_ + 0.2*lreg.coef_[0] + 0*lreg.coef_[1]\n",
    "print(\"This is the same as %f stars\" % expected_rating_B)"
   ]
  },
  {
   "cell_type": "code",
   "execution_count": 19,
   "metadata": {},
   "outputs": [
    {
     "name": "stdout",
     "output_type": "stream",
     "text": [
      "The expected rating is 2.758198 stars\n",
      "This is the same as 2.758198 stars\n"
     ]
    }
   ],
   "source": [
    "features = [[0, 0.2]]\n",
    "expected_rating_A = lreg.predict(features)[0]\n",
    "print(\"The expected rating is %f stars\" % expected_rating_A)\n",
    "# we can also compute this explicitly:\n",
    "expected_rating_B = lreg.intercept_ + 0 * lreg.coef_[0] + 0.2 * lreg.coef_[1]\n",
    "print(\"This is the same as %f stars\" % expected_rating_B)"
   ]
  },
  {
   "cell_type": "code",
   "execution_count": 26,
   "metadata": {},
   "outputs": [
    {
     "name": "stdout",
     "output_type": "stream",
     "text": [
      "The expected rating is 7.323264 stars\n",
      "This is the same as 2.758198 stars\n"
     ]
    }
   ],
   "source": [
    "features = [[1, 0]]\n",
    "expected_rating_A = lreg.predict(features)[0]\n",
    "print(\"The expected rating is %f stars\" % expected_rating_A)\n",
    "# we can also compute this explicitly:\n",
    "expected_rating_B = lreg.intercept_ + 0 * lreg.coef_[0] + 0.2 * lreg.coef_[1]\n",
    "print(\"This is the same as %f stars\" % expected_rating_B)"
   ]
  },
  {
   "cell_type": "code",
   "execution_count": 22,
   "metadata": {},
   "outputs": [
    {
     "name": "stdout",
     "output_type": "stream",
     "text": [
      "The expected rating is -0.392235 stars\n",
      "This is the same as 2.758198 stars\n"
     ]
    }
   ],
   "source": [
    "features = [[0, 1]]\n",
    "expected_rating_A = lreg.predict(features)[0]\n",
    "print(\"The expected rating is %f stars\" % expected_rating_A)\n",
    "# we can also compute this explicitly:\n",
    "expected_rating_B = lreg.intercept_ + 0 * lreg.coef_[0] + 0.2 * lreg.coef_[1]\n",
    "print(\"This is the same as %f stars\" % expected_rating_B)"
   ]
  },
  {
   "cell_type": "code",
   "execution_count": 28,
   "metadata": {},
   "outputs": [],
   "source": [
    "\n",
    "def  predict_lreg (features):\n",
    "    expected_rating = lreg.predict(features)\n",
    "    expected_rating[expected_rating > 5.0] = 5.0\n",
    "    expected_rating[expected_rating < 1.0] = 1.0\n",
    "    return expected_rating\n",
    "\n",
    "pred_train = predict_lreg(X_train)"
   ]
  },
  {
   "cell_type": "code",
   "execution_count": 29,
   "metadata": {},
   "outputs": [
    {
     "name": "stdout",
     "output_type": "stream",
     "text": [
      "The expected rating is 5.000000 stars\n",
      "This is the same as 2.758198 stars\n"
     ]
    }
   ],
   "source": [
    "features = [[1, 0]]\n",
    "expected_rating_A = predict_lreg(features)[0]\n",
    "print(\"The expected rating is %f stars\" % expected_rating_A)\n",
    "# we can also compute this explicitly:\n",
    "expected_rating_B = lreg.intercept_ + 0 * lreg.coef_[0] + 0.2 * lreg.coef_[1]\n",
    "print(\"This is the same as %f stars\" % expected_rating_B)"
   ]
  },
  {
   "cell_type": "code",
   "execution_count": 30,
   "metadata": {},
   "outputs": [
    {
     "name": "stdout",
     "output_type": "stream",
     "text": [
      "The expected rating is 1.000000 stars\n",
      "This is the same as 2.758198 stars\n"
     ]
    }
   ],
   "source": [
    "features = [[0, 1]]\n",
    "expected_rating_A = predict_lreg(features)[0]\n",
    "print(\"The expected rating is %f stars\" % expected_rating_A)\n",
    "# we can also compute this explicitly:\n",
    "expected_rating_B = lreg.intercept_ + 0 * lreg.coef_[0] + 0.2 * lreg.coef_[1]\n",
    "print(\"This is the same as %f stars\" % expected_rating_B)"
   ]
  },
  {
   "cell_type": "code",
   "execution_count": 32,
   "metadata": {},
   "outputs": [
    {
     "name": "stdout",
     "output_type": "stream",
     "text": [
      "Training example number 0\n",
      "True rating = 3.000000 stars, expected rating = 4.232616 stars\n",
      "Features = 0.181818 / 0.000000\n",
      "Review text = Loves the song, so he really couldn't wait to play this. A little less interesting for him so he doesn't play long, but he is almost 3 and likes to play the older games, but really cute for a younger child.\n",
      "Training example number 10000\n",
      "True rating = 1.000000 stars, expected rating = 3.804154 stars\n",
      "Features = 0.142857 / 0.071429\n",
      "Review text = ...gave up on this game over a year ago. Never worked for me then and still doesn't. What does that tell you? Make your own decision, I did and now regret it. 2thumbs down. Respectfully!\n",
      "Training example number 20000\n",
      "True rating = 5.000000 stars, expected rating = 4.175382 stars\n",
      "Features = 0.166667 / 0.000000\n",
      "Review text = Bought for my 4yr old and I love that it reads to her when I can't! Works on kindle fire first gen.\n",
      "Training example number 30000\n",
      "True rating = 5.000000 stars, expected rating = 4.175382 stars\n",
      "Features = 0.166667 / 0.000000\n",
      "Review text = i love this app being able to watch TV while waiting in the car for someone.  Great way to pass time.\n",
      "Training example number 50000\n",
      "True rating = 5.000000 stars, expected rating = 4.490170 stars\n",
      "Features = 0.250000 / 0.000000\n",
      "Review text = This is highly addictive.....and fun.  It keeps me from doing things so I have to pace myself.  It's pretty easy to play also.\n"
     ]
    }
   ],
   "source": [
    "def analyze_training_example(i):\n",
    "    print(\"Training example number\", i)\n",
    "    print(\"True rating = %f stars, expected rating = %f stars\" % (Y_train[i], \n",
    "                                                                  pred_train[i]))\n",
    "    print(\"Features = %f / %f\" % (X_train[i,0], X_train[i,1]))\n",
    "    print(\"Review text = %s\" % apps_train[i]['reviewText'])\n",
    "\n",
    "for i in [0, 10000, 20000, 30000, 50000]:\n",
    "    analyze_training_example(i)"
   ]
  },
  {
   "cell_type": "code",
   "execution_count": 33,
   "metadata": {},
   "outputs": [
    {
     "name": "stdout",
     "output_type": "stream",
     "text": [
      "The mean absolute error on the training data is 0.991455 stars\n"
     ]
    }
   ],
   "source": [
    "from sklearn.metrics import mean_absolute_error\n",
    "mae_train = mean_absolute_error(pred_train, Y_train)\n",
    "print(\"The mean absolute error on the training data is %f stars\" % mae_train)"
   ]
  }
 ],
 "metadata": {
  "kernelspec": {
   "display_name": "Python 3",
   "language": "python",
   "name": "python3"
  },
  "language_info": {
   "codemirror_mode": {
    "name": "ipython",
    "version": 3
   },
   "file_extension": ".py",
   "mimetype": "text/x-python",
   "name": "python",
   "nbconvert_exporter": "python",
   "pygments_lexer": "ipython3",
   "version": "3.7.0"
  }
 },
 "nbformat": 4,
 "nbformat_minor": 2
}
