{
 "cells": [
  {
   "cell_type": "code",
   "execution_count": 1,
   "metadata": {
    "colab": {
     "autoexec": {
      "startup": false,
      "wait_interval": 0
     },
     "base_uri": "https://localhost:8080/",
     "height": 34
    },
    "colab_type": "code",
    "executionInfo": {
     "elapsed": 11758,
     "status": "ok",
     "timestamp": 1533666895405,
     "user": {
      "displayName": "Tatsiana",
      "photoUrl": "//lh6.googleusercontent.com/-fRQ_ImaANlc/AAAAAAAAAAI/AAAAAAAAPWk/gebQb8ZW-aw/s50-c-k-no/photo.jpg",
      "userId": "111934837967779650575"
     },
     "user_tz": 240
    },
    "id": "TNcGwJBKmSV3",
    "outputId": "b9571a2a-3463-45f0-cd9a-c2caaa2c3939"
   },
   "outputs": [
    {
     "name": "stdout",
     "output_type": "stream",
     "text": [
      "Dataset Baby has already been downloaded to ./data/\n"
     ]
    }
   ],
   "source": [
    "%matplotlib inline\n",
    "datadir= './data/'\n",
    "\n",
    "import urllib.request, os, gzip\n",
    "\n",
    "def download_data(dataset_name, datadir):\n",
    "    filename = 'reviews_%s_5.json' % dataset_name\n",
    "    filepath = os.path.join(datadir, filename)\n",
    "    if os.path.exists(filepath):\n",
    "        print(\"Dataset %s has already been downloaded to %s\" % (dataset_name, datadir))\n",
    "    else:\n",
    "        url = 'http://snap.stanford.edu/data/amazon/productGraph/categoryFiles/%s.gz' % filename\n",
    "        urllib.request.urlretrieve(url, filepath + \".gz\")\n",
    "        with gzip.open(filepath + \".gz\", 'rb') as fin:\n",
    "            with open(filepath, 'wb') as fout:\n",
    "                fout.write(fin.read())\n",
    "        print(\"Downloaded dataset %s and saved it to %s\" % (dataset_name, datadir))\n",
    "dataset=\"Baby\"\n",
    "download_data(dataset,datadir)"
   ]
  },
  {
   "cell_type": "code",
   "execution_count": 3,
   "metadata": {
    "colab": {
     "autoexec": {
      "startup": false,
      "wait_interval": 0
     },
     "base_uri": "https://localhost:8080/",
     "height": 71
    },
    "colab_type": "code",
    "executionInfo": {
     "elapsed": 3027,
     "status": "ok",
     "timestamp": 1533673323568,
     "user": {
      "displayName": "Tatsiana",
      "photoUrl": "//lh6.googleusercontent.com/-fRQ_ImaANlc/AAAAAAAAAAI/AAAAAAAAPWk/gebQb8ZW-aw/s50-c-k-no/photo.jpg",
      "userId": "111934837967779650575"
     },
     "user_tz": 240
    },
    "id": "KTQXhzhCmSV9",
    "outputId": "15bea9bc-ef2f-4233-bb9d-f97453342468"
   },
   "outputs": [
    {
     "name": "stdout",
     "output_type": "stream",
     "text": [
      "Loades 160792 data for dataset Baby\n",
      "{'reviewerID': 'A2H4QWDVXARPAU', 'asin': 'B0000TYHD2', 'reviewerName': 'Erin White \"Erin\"', 'helpful': [7, 8], 'reviewText': \"I bought this pump for my new baby because it just as others below have said it looks more comfortable than others and it is! Including Medela. With my other child I encountered breastfeeding problems and had a horrible cheap pump. Now with my new baby she was born with a heart problem (she is fine now after a long road to recovery) and had to stay in the hospital for an extended length of time. Meanwhile I had other children at home and we live 6 hours away from our family and so I had no choice but to divide my time between the hospital and home, which meant I needed a hospital grade pump originally I rented one from the hospital (Medela) and it made my breasts hurt really bad. On the way home from the hospital I stopped in at Babiesrus and bought this pump because it was on our registry (we studied and found it to be more comfortable and with coupons it was much cheaper than Medela,) and started using it and I have been so happy with it that sometimes I still use it so my husband can give her a bottle! I love that all I have to do is pump it and add a nipple and its ready to go and its also easier to store than regular breastmilk bags from medela and its also less expensive also. I love the quiet operation I can pump while were watching tv and we don't have to turn the tv up!\", 'overall': 5.0, 'summary': 'Has more comforts than Medela!', 'unixReviewTime': 1116547200, 'reviewTime': '05 20, 2005', 'hash': 2017992024}\n"
     ]
    }
   ],
   "source": [
    "import json\n",
    "\n",
    "#for colab\n",
    "#from google.colab import files\n",
    "def getLocalFiles():\n",
    "    data=[]\n",
    "    with open('reviews_Baby_5.json','r') as f: #read file line by line\n",
    "        for line in f:\n",
    "            item_hash=hash(line)\n",
    "            item=json.loads(line)  #convert json to Python dict\n",
    "            item['hash']=item_hash   #add hash fo indentification purposes\n",
    "            data.append(item)\n",
    "    print(\"Loades %d data for dataset baby\" %(len(data)))\n",
    "    return data\n",
    "\n",
    "\n",
    "def load_data(dataset_name, datadir):\n",
    "    filename = 'reviews_%s_5.json' % dataset_name\n",
    "    filepath = os.path.join(datadir, filename)\n",
    "    if not os.path.exists(filepath):\n",
    "        download_data(dataset_name, datadir)\n",
    "    data=[]\n",
    "    with open(filepath,'r') as f: #read file line by line\n",
    "        for line in f:\n",
    "            item_hash=hash(line)\n",
    "            item=json.loads(line)  #convert json to Python dict\n",
    "            item['hash']=item_hash   #add hash fo indentification purposes\n",
    "            data.append(item)\n",
    "    print(\"Loades %d data for dataset %s\" %(len(data), dataset_name))\n",
    "    return data\n",
    "  \n",
    "#baby=getLocalFiles() # for colab\n",
    "\n",
    "#load the data...\n",
    "baby=load_data(dataset, datadir)\n",
    "#...and have a look at an example item (item number 9426):\n",
    "print(baby[9426])\n",
    "    "
   ]
  },
  {
   "cell_type": "code",
   "execution_count": 4,
   "metadata": {
    "colab": {
     "autoexec": {
      "startup": false,
      "wait_interval": 0
     },
     "base_uri": "https://localhost:8080/",
     "height": 34
    },
    "colab_type": "code",
    "executionInfo": {
     "elapsed": 530,
     "status": "ok",
     "timestamp": 1533673333665,
     "user": {
      "displayName": "Tatsiana",
      "photoUrl": "//lh6.googleusercontent.com/-fRQ_ImaANlc/AAAAAAAAAAI/AAAAAAAAPWk/gebQb8ZW-aw/s50-c-k-no/photo.jpg",
      "userId": "111934837967779650575"
     },
     "user_tz": 240
    },
    "id": "5ztfaV-jmSV_",
    "outputId": "f093e987-06bf-43cf-9ab4-7d72bc93f973"
   },
   "outputs": [
    {
     "name": "stdout",
     "output_type": "stream",
     "text": [
      "Now we have 96239 training exemples, 32152 validation exemples and 32401 test exemples\n"
     ]
    }
   ],
   "source": [
    "def partition_train_validation_test(data):\n",
    "    #60% : modulus is 0,1, 2, 3, 4, or 5\n",
    "    data_train=[item for item in data if item['hash']%10<=5]\n",
    "    # 20% : modulus is 6, or 7\n",
    "    data_valid=[item for item in data if item['hash']%10 in [6,7]]\n",
    "    # 20% : modulus is 8 or 9\n",
    "    data_test = [item for item in data if item['hash']%10 in [8,9]]\n",
    "    return data_train, data_valid, data_test\n",
    "\n",
    "baby_train, baby_valid, baby_test = partition_train_validation_test(baby)\n",
    "print(\"Now we have\", len(baby_train), \"training exemples,\", len(baby_valid),\n",
    "      \"validation exemples and\", len(baby_test), \"test exemples\")"
   ]
  },
  {
   "cell_type": "code",
   "execution_count": 5,
   "metadata": {
    "colab": {
     "autoexec": {
      "startup": false,
      "wait_interval": 0
     },
     "base_uri": "https://localhost:8080/",
     "height": 102
    },
    "colab_type": "code",
    "executionInfo": {
     "elapsed": 941,
     "status": "ok",
     "timestamp": 1533673359989,
     "user": {
      "displayName": "Tatsiana",
      "photoUrl": "//lh6.googleusercontent.com/-fRQ_ImaANlc/AAAAAAAAAAI/AAAAAAAAPWk/gebQb8ZW-aw/s50-c-k-no/photo.jpg",
      "userId": "111934837967779650575"
     },
     "user_tz": 240
    },
    "id": "j3FFBMEImSWD",
    "outputId": "d7224278-ef24-4138-ac59-047761f8642a"
   },
   "outputs": [
    {
     "name": "stdout",
     "output_type": "stream",
     "text": [
      "[nltk_data] Downloading package opinion_lexicon to\n",
      "[nltk_data]     C:\\Users\\User\\AppData\\Roaming\\nltk_data...\n",
      "[nltk_data]   Package opinion_lexicon is already up-to-date!\n",
      "some positive words: appreciates,flexible,succeeding,acclaim,rejoicing,pleasing,affluence,prudently,decency,viewable\n",
      "some negative words: worsening,uproarous,hang,prejudices,damn,revoltingly,debaser,jagged,fibber,infirm\n"
     ]
    }
   ],
   "source": [
    "import nltk #for colab\n",
    "nltk.download('opinion_lexicon') #for colab\n",
    "from nltk.corpus import opinion_lexicon\n",
    "pos_words = set(opinion_lexicon.positive())\n",
    "neg_words = set(opinion_lexicon.negative())\n",
    "\n",
    "import random\n",
    "random.seed(1234)\n",
    "print(\"some positive words:\", \",\".join(random.sample(pos_words, 10)))\n",
    "print(\"some negative words:\", \",\".join(random.sample(neg_words, 10)))"
   ]
  },
  {
   "cell_type": "code",
   "execution_count": 6,
   "metadata": {
    "colab": {
     "autoexec": {
      "startup": false,
      "wait_interval": 0
     },
     "base_uri": "https://localhost:8080/",
     "height": 34
    },
    "colab_type": "code",
    "executionInfo": {
     "elapsed": 377,
     "status": "ok",
     "timestamp": 1533673362850,
     "user": {
      "displayName": "Tatsiana",
      "photoUrl": "//lh6.googleusercontent.com/-fRQ_ImaANlc/AAAAAAAAAAI/AAAAAAAAPWk/gebQb8ZW-aw/s50-c-k-no/photo.jpg",
      "userId": "111934837967779650575"
     },
     "user_tz": 240
    },
    "id": "RIxFBkYNmSWH",
    "outputId": "a53c07a7-2de7-40f8-9efc-da7b5b98c689"
   },
   "outputs": [
    {
     "name": "stdout",
     "output_type": "stream",
     "text": [
      "Both: envious,enviously,enviousness\n"
     ]
    }
   ],
   "source": [
    "intersection= pos_words & neg_words\n",
    "print(\"Both:\", \",\".join(intersection))"
   ]
  },
  {
   "cell_type": "code",
   "execution_count": 9,
   "metadata": {
    "colab": {
     "autoexec": {
      "startup": false,
      "wait_interval": 0
     },
     "base_uri": "https://localhost:8080/",
     "height": 119
    },
    "colab_type": "code",
    "executionInfo": {
     "elapsed": 347,
     "status": "ok",
     "timestamp": 1533673365454,
     "user": {
      "displayName": "Tatsiana",
      "photoUrl": "//lh6.googleusercontent.com/-fRQ_ImaANlc/AAAAAAAAAAI/AAAAAAAAPWk/gebQb8ZW-aw/s50-c-k-no/photo.jpg",
      "userId": "111934837967779650575"
     },
     "user_tz": 240
    },
    "id": "f9E1fElSmSWK",
    "outputId": "df4010fb-c6f3-4c0c-ef98-9a29968be168"
   },
   "outputs": [
    {
     "name": "stdout",
     "output_type": "stream",
     "text": [
      "(0.8571428571428571, 0.0)\n",
      "(0.0, 0.8571428571428571)\n"
     ]
    }
   ],
   "source": [
    "#import nltk #for colab\n",
    "#nltk.download('punkt') #for colab\n",
    "#.download('stopwords') # for colab\n",
    "\n",
    "from nltk.corpus import stopwords\n",
    "from nltk.tokenize import sent_tokenize, word_tokenize\n",
    "eng_stopwords = set(stopwords.words('english'))\n",
    "\n",
    "def my_tokenize(text):\n",
    "    # split text into lower-case tokens, remowing all punctuation tokens and stopwords\n",
    "    tokens=[]\n",
    "    for sentence in sent_tokenize(text):\n",
    "        tokens.extend( x for x in word_tokenize(sentence.lower())\n",
    "                     if x not in eng_stopwords and any(i.isalpha() for i in x))\n",
    "    return tokens\n",
    "        \n",
    "def pos_neg_fraction(text):\n",
    "    tokens=my_tokenize(text)\n",
    "    count_pos, count_neg=0,0\n",
    "    for t in tokens:\n",
    "        if t in pos_words:\n",
    "            count_pos+=1\n",
    "        if t in neg_words:\n",
    "            count_neg+=1\n",
    "    count_all=len(tokens)\n",
    "    if count_all==0:\n",
    "        return 0.0,0.\n",
    "    return count_pos/count_all, count_neg/count_all\n",
    "\n",
    "pos_example = 'This is a good, great, fantastic, amazing, wonderful, super product!!!'\n",
    "neg_example = 'This is a bad, atrocious, terrible, dreadful, awful, abysmal product!!!'\n",
    "print(pos_neg_fraction(pos_example))\n",
    "print(pos_neg_fraction(neg_example))"
   ]
  },
  {
   "cell_type": "code",
   "execution_count": 11,
   "metadata": {
    "colab": {
     "autoexec": {
      "startup": false,
      "wait_interval": 0
     },
     "base_uri": "https://localhost:8080/",
     "height": 105
    },
    "colab_type": "code",
    "executionInfo": {
     "elapsed": 108877,
     "status": "ok",
     "timestamp": 1533673477369,
     "user": {
      "displayName": "Tatsiana",
      "photoUrl": "//lh6.googleusercontent.com/-fRQ_ImaANlc/AAAAAAAAAAI/AAAAAAAAPWk/gebQb8ZW-aw/s50-c-k-no/photo.jpg",
      "userId": "111934837967779650575"
     },
     "user_tz": 240
    },
    "id": "u_fH4EK2mSWM",
    "outputId": "c53eb4a3-6e2f-4f9e-ca71-c1677a6a6f61"
   },
   "outputs": [
    {
     "name": "stdout",
     "output_type": "stream",
     "text": [
      "We found a fraction of 100.000000 % positive words for example 10464\n",
      "{'reviewerID': 'A2FPJGVT01TVVQ', 'asin': 'B000A88JYQ', 'reviewerName': 'S. Broderick \"Sondra\"', 'helpful': [0, 0], 'reviewText': 'work perfect', 'overall': 5.0, 'summary': 'Five Stars', 'unixReviewTime': 1404691200, 'reviewTime': '07 7, 2014', 'hash': -1210238288}\n",
      "We found a fraction of 100.000000 % negative words for example 24791\n",
      "{'reviewerID': 'A1SLEYD29KEUW1', 'asin': 'B000WUD83O', 'reviewerName': 'ABDULLAH AL-FALAH', 'helpful': [0, 0], 'reviewText': 'too noisy', 'overall': 2.0, 'summary': 'Two Stars', 'unixReviewTime': 1404432000, 'reviewTime': '07 4, 2014', 'hash': -1446806278}\n"
     ]
    }
   ],
   "source": [
    "import numpy\n",
    "\n",
    "def dataset_to_matrix(data):\n",
    "    return numpy.array([list(pos_neg_fraction(item['reviewText'])) for item in data])\n",
    "\n",
    "X_train = dataset_to_matrix(baby_train)\n",
    "most_pos, most_neg = numpy.argmax(X_train, axis=0)\n",
    "# print the example with the highest fraction of positive words:\n",
    "print(\"We found a fraction of %f %% positive words for example %d\" % \n",
    "      (100.*X_train[most_pos, 0], most_pos))\n",
    "print(baby_train[most_pos])\n",
    "print(\"We found a fraction of %f %% negative words for example %d\" %\n",
    "      (100.*X_train[most_neg, 1], most_neg))\n",
    "print(baby_train[most_neg])"
   ]
  },
  {
   "cell_type": "code",
   "execution_count": 13,
   "metadata": {
    "colab": {
     "autoexec": {
      "startup": false,
      "wait_interval": 0
     },
     "base_uri": "https://localhost:8080/",
     "height": 51
    },
    "colab_type": "code",
    "executionInfo": {
     "elapsed": 337,
     "status": "ok",
     "timestamp": 1533673481816,
     "user": {
      "displayName": "Tatsiana",
      "photoUrl": "//lh6.googleusercontent.com/-fRQ_ImaANlc/AAAAAAAAAAI/AAAAAAAAPWk/gebQb8ZW-aw/s50-c-k-no/photo.jpg",
      "userId": "111934837967779650575"
     },
     "user_tz": 240
    },
    "id": "Rc7XjAxbmSWQ",
    "outputId": "01517e1f-59f9-4f1c-f744-4bf8ad5ac900"
   },
   "outputs": [
    {
     "name": "stdout",
     "output_type": "stream",
     "text": [
      "Our feature matrix is two-dimensional and has shape (96239, 2)\n",
      "Our target vector is one-dimensional and has shape (96239,)\n"
     ]
    }
   ],
   "source": [
    "def dataset_to_targets(data):\n",
    "    return numpy.array([item['overall'] for item in data])\n",
    "\n",
    "Y_train = dataset_to_targets(baby_train)\n",
    "print(\"Our feature matrix is two-dimensional and has shape\", X_train.shape)\n",
    "print(\"Our target vector is one-dimensional and has shape\", Y_train.shape)"
   ]
  },
  {
   "cell_type": "code",
   "execution_count": 14,
   "metadata": {
    "colab": {
     "autoexec": {
      "startup": false,
      "wait_interval": 0
     },
     "base_uri": "https://localhost:8080/",
     "height": 405
    },
    "colab_type": "code",
    "executionInfo": {
     "elapsed": 557,
     "status": "ok",
     "timestamp": 1533673487280,
     "user": {
      "displayName": "Tatsiana",
      "photoUrl": "//lh6.googleusercontent.com/-fRQ_ImaANlc/AAAAAAAAAAI/AAAAAAAAPWk/gebQb8ZW-aw/s50-c-k-no/photo.jpg",
      "userId": "111934837967779650575"
     },
     "user_tz": 240
    },
    "id": "uwhQDvfImSWX",
    "outputId": "760e1d8c-6d00-4fb4-d7cf-df24e69ae337"
   },
   "outputs": [
    {
     "data": {
      "text/plain": [
       "<matplotlib.axes._subplots.AxesSubplot at 0x12d5770>"
      ]
     },
     "execution_count": 14,
     "metadata": {},
     "output_type": "execute_result"
    },
    {
     "data": {
      "image/png": "[encoded data removed]",
      "text/plain": [
       "<Figure size 432x288 with 1 Axes>"
      ]
     },
     "metadata": {},
     "output_type": "display_data"
    }
   ],
   "source": [
    "import pandas\n",
    "pandas.Series(Y_train).value_counts().plot.bar()"
   ]
  },
  {
   "cell_type": "code",
   "execution_count": 20,
   "metadata": {
    "colab": {
     "autoexec": {
      "startup": false,
      "wait_interval": 0
     },
     "base_uri": "https://localhost:8080/",
     "height": 366
    },
    "colab_type": "code",
    "executionInfo": {
     "elapsed": 7969,
     "status": "ok",
     "timestamp": 1533673497767,
     "user": {
      "displayName": "Tatsiana",
      "photoUrl": "//lh6.googleusercontent.com/-fRQ_ImaANlc/AAAAAAAAAAI/AAAAAAAAPWk/gebQb8ZW-aw/s50-c-k-no/photo.jpg",
      "userId": "111934837967779650575"
     },
     "user_tz": 240
    },
    "id": "NiWksisimSWZ",
    "outputId": "6621f1fe-5a64-421a-b5e2-825b3f348468"
   },
   "outputs": [
    {
     "data": {
      "text/plain": [
       "<matplotlib.axes._subplots.AxesSubplot at 0x7fa1cf0f6be0>"
      ]
     },
     "execution_count": 20,
     "metadata": {
      "tags": []
     },
     "output_type": "execute_result"
    },
    {
     "data": {
      "image/png": "[encoded data removed]",
      "text/plain": [
       "<matplotlib.figure.Figure at 0x7fa1cf0856a0>"
      ]
     },
     "metadata": {
      "tags": []
     },
     "output_type": "display_data"
    }
   ],
   "source": [
    "df = pandas.DataFrame(data=X_train, columns = ['fpos', 'fneg'])\n",
    "df.plot.kde(xlim=(-0.05, 0.5))"
   ]
  },
  {
   "cell_type": "code",
   "execution_count": 21,
   "metadata": {
    "colab": {
     "autoexec": {
      "startup": false,
      "wait_interval": 0
     },
     "base_uri": "https://localhost:8080/",
     "height": 68
    },
    "colab_type": "code",
    "executionInfo": {
     "elapsed": 461,
     "status": "ok",
     "timestamp": 1533673503617,
     "user": {
      "displayName": "Tatsiana",
      "photoUrl": "//lh6.googleusercontent.com/-fRQ_ImaANlc/AAAAAAAAAAI/AAAAAAAAPWk/gebQb8ZW-aw/s50-c-k-no/photo.jpg",
      "userId": "111934837967779650575"
     },
     "user_tz": 240
    },
    "id": "mo-_cNe4mSWe",
    "outputId": "ccbf8d1c-736b-4762-f077-73e888b1b554"
   },
   "outputs": [
    {
     "name": "stdout",
     "output_type": "stream",
     "text": [
      "The coefficient for the fpos variable is 3.151784203063496\n",
      "The coefficient for the fneg variable is -5.709680809205286\n",
      "The intercept is 4.0265693780681024\n"
     ]
    }
   ],
   "source": [
    "from  sklearn.linear_model import LinearRegression\n",
    "lreg = LinearRegression().fit(X_train, Y_train)\n",
    "\n",
    "print(\"The coefficient for the fpos variable is\", lreg.coef_[0])\n",
    "print(\"The coefficient for the fneg variable is\", lreg.coef_[1])\n",
    "print(\"The intercept is\", lreg.intercept_)"
   ]
  },
  {
   "cell_type": "code",
   "execution_count": 22,
   "metadata": {
    "colab": {
     "autoexec": {
      "startup": false,
      "wait_interval": 0
     },
     "base_uri": "https://localhost:8080/",
     "height": 51
    },
    "colab_type": "code",
    "executionInfo": {
     "elapsed": 375,
     "status": "ok",
     "timestamp": 1533673505366,
     "user": {
      "displayName": "Tatsiana",
      "photoUrl": "//lh6.googleusercontent.com/-fRQ_ImaANlc/AAAAAAAAAAI/AAAAAAAAPWk/gebQb8ZW-aw/s50-c-k-no/photo.jpg",
      "userId": "111934837967779650575"
     },
     "user_tz": 240
    },
    "id": "Uas0MbfXmSWi",
    "outputId": "c57f9c32-d5da-449b-e76c-f392fbc026d3"
   },
   "outputs": [
    {
     "name": "stdout",
     "output_type": "stream",
     "text": [
      "The expected rating is 4.656926 stars\n",
      "This is the same as 4.656926 stars\n"
     ]
    }
   ],
   "source": [
    "features = [[0.2, 0]]\n",
    "expected_rating_A = lreg.predict(features)[0]\n",
    "print(\"The expected rating is %f stars\" % expected_rating_A)\n",
    "# we can also compute this explicitly:\n",
    "expected_rating_B = lreg.intercept_ + 0.2*lreg.coef_[0] + 0*lreg.coef_[1]\n",
    "print(\"This is the same as %f stars\" % expected_rating_B)"
   ]
  },
  {
   "cell_type": "code",
   "execution_count": 24,
   "metadata": {
    "colab": {
     "autoexec": {
      "startup": false,
      "wait_interval": 0
     },
     "base_uri": "https://localhost:8080/",
     "height": 51
    },
    "colab_type": "code",
    "executionInfo": {
     "elapsed": 385,
     "status": "ok",
     "timestamp": 1533673512981,
     "user": {
      "displayName": "Tatsiana",
      "photoUrl": "//lh6.googleusercontent.com/-fRQ_ImaANlc/AAAAAAAAAAI/AAAAAAAAPWk/gebQb8ZW-aw/s50-c-k-no/photo.jpg",
      "userId": "111934837967779650575"
     },
     "user_tz": 240
    },
    "id": "EXzxX-cwmSWl",
    "outputId": "106f7235-9bf4-4986-a66f-ef76ed022a2a"
   },
   "outputs": [
    {
     "name": "stdout",
     "output_type": "stream",
     "text": [
      "The expected rating is 2.884633 stars\n",
      "This is the same as 2.884633 stars\n"
     ]
    }
   ],
   "source": [
    "features = [[0, 0.2]]\n",
    "expected_rating_A = lreg.predict(features)[0]\n",
    "print(\"The expected rating is %f stars\" % expected_rating_A)\n",
    "# we can also compute this explicitly:\n",
    "expected_rating_B = lreg.intercept_ + 0 * lreg.coef_[0] + 0.2 * lreg.coef_[1]\n",
    "print(\"This is the same as %f stars\" % expected_rating_B)"
   ]
  },
  {
   "cell_type": "code",
   "execution_count": 25,
   "metadata": {
    "colab": {
     "autoexec": {
      "startup": false,
      "wait_interval": 0
     },
     "base_uri": "https://localhost:8080/",
     "height": 51
    },
    "colab_type": "code",
    "executionInfo": {
     "elapsed": 296,
     "status": "ok",
     "timestamp": 1533673514325,
     "user": {
      "displayName": "Tatsiana",
      "photoUrl": "//lh6.googleusercontent.com/-fRQ_ImaANlc/AAAAAAAAAAI/AAAAAAAAPWk/gebQb8ZW-aw/s50-c-k-no/photo.jpg",
      "userId": "111934837967779650575"
     },
     "user_tz": 240
    },
    "id": "rYvOipwpmSWo",
    "outputId": "5066e74c-99b9-4d13-9ad2-88c004b630c6"
   },
   "outputs": [
    {
     "name": "stdout",
     "output_type": "stream",
     "text": [
      "The expected rating is 7.178354 stars\n",
      "This is the same as 7.178354 stars\n"
     ]
    }
   ],
   "source": [
    "features = [[1, 0]]\n",
    "expected_rating_A = lreg.predict(features)[0]\n",
    "print(\"The expected rating is %f stars\" % expected_rating_A)\n",
    "# we can also compute this explicitly:\n",
    "expected_rating_B = lreg.intercept_ + 1 * lreg.coef_[0] + 0 * lreg.coef_[1]\n",
    "print(\"This is the same as %f stars\" % expected_rating_B)"
   ]
  },
  {
   "cell_type": "code",
   "execution_count": 26,
   "metadata": {
    "colab": {
     "autoexec": {
      "startup": false,
      "wait_interval": 0
     },
     "base_uri": "https://localhost:8080/",
     "height": 51
    },
    "colab_type": "code",
    "executionInfo": {
     "elapsed": 399,
     "status": "ok",
     "timestamp": 1533673520594,
     "user": {
      "displayName": "Tatsiana",
      "photoUrl": "//lh6.googleusercontent.com/-fRQ_ImaANlc/AAAAAAAAAAI/AAAAAAAAPWk/gebQb8ZW-aw/s50-c-k-no/photo.jpg",
      "userId": "111934837967779650575"
     },
     "user_tz": 240
    },
    "id": "3EAjxcjBmSWs",
    "outputId": "14feec5a-a52b-40a1-c1ef-50b40602f801"
   },
   "outputs": [
    {
     "name": "stdout",
     "output_type": "stream",
     "text": [
      "The expected rating is -1.683111 stars\n",
      "This is the same as -1.683111 stars\n"
     ]
    }
   ],
   "source": [
    "features = [[0, 1]]\n",
    "expected_rating_A = lreg.predict(features)[0]\n",
    "print(\"The expected rating is %f stars\" % expected_rating_A)\n",
    "# we can also compute this explicitly:\n",
    "expected_rating_B = lreg.intercept_ + 0 * lreg.coef_[0] + 1 * lreg.coef_[1]\n",
    "print(\"This is the same as %f stars\" % expected_rating_B)"
   ]
  },
  {
   "cell_type": "code",
   "execution_count": 0,
   "metadata": {
    "colab": {
     "autoexec": {
      "startup": false,
      "wait_interval": 0
     }
    },
    "colab_type": "code",
    "id": "svkwJAoqmSWx"
   },
   "outputs": [],
   "source": [
    "def  predict_lreg (features):\n",
    "    expected_rating = lreg.predict(features)\n",
    "    expected_rating[expected_rating > 5.0] = 5.0\n",
    "    expected_rating[expected_rating < 1.0] = 1.0\n",
    "    return expected_rating\n",
    "\n",
    "pred_train = predict_lreg(X_train)"
   ]
  },
  {
   "cell_type": "code",
   "execution_count": 28,
   "metadata": {
    "colab": {
     "autoexec": {
      "startup": false,
      "wait_interval": 0
     },
     "base_uri": "https://localhost:8080/",
     "height": 51
    },
    "colab_type": "code",
    "executionInfo": {
     "elapsed": 306,
     "status": "ok",
     "timestamp": 1533673526311,
     "user": {
      "displayName": "Tatsiana",
      "photoUrl": "//lh6.googleusercontent.com/-fRQ_ImaANlc/AAAAAAAAAAI/AAAAAAAAPWk/gebQb8ZW-aw/s50-c-k-no/photo.jpg",
      "userId": "111934837967779650575"
     },
     "user_tz": 240
    },
    "id": "6YcPcqrLmSWz",
    "outputId": "0064eb36-e281-432a-ee1b-867b1b7407db"
   },
   "outputs": [
    {
     "name": "stdout",
     "output_type": "stream",
     "text": [
      "The expected rating is 5.000000 stars\n",
      "This is the same as 7.178354 stars\n"
     ]
    }
   ],
   "source": [
    "features = [[1, 0]]\n",
    "expected_rating_A = predict_lreg(features)[0]\n",
    "print(\"The expected rating is %f stars\" % expected_rating_A)\n",
    "# we can also compute this explicitly:\n",
    "expected_rating_B = lreg.intercept_ + 1 * lreg.coef_[0] + 0 * lreg.coef_[1]\n",
    "print(\"This is the same as %f stars\" % expected_rating_B)"
   ]
  },
  {
   "cell_type": "code",
   "execution_count": 29,
   "metadata": {
    "colab": {
     "autoexec": {
      "startup": false,
      "wait_interval": 0
     },
     "base_uri": "https://localhost:8080/",
     "height": 51
    },
    "colab_type": "code",
    "executionInfo": {
     "elapsed": 316,
     "status": "ok",
     "timestamp": 1533673528603,
     "user": {
      "displayName": "Tatsiana",
      "photoUrl": "//lh6.googleusercontent.com/-fRQ_ImaANlc/AAAAAAAAAAI/AAAAAAAAPWk/gebQb8ZW-aw/s50-c-k-no/photo.jpg",
      "userId": "111934837967779650575"
     },
     "user_tz": 240
    },
    "id": "BRL13tbdmSW1",
    "outputId": "8561e948-b4a4-4903-861d-c026b44deb27"
   },
   "outputs": [
    {
     "name": "stdout",
     "output_type": "stream",
     "text": [
      "The expected rating is 1.000000 stars\n",
      "This is the same as -1.683111 stars\n"
     ]
    }
   ],
   "source": [
    "features = [[0, 1]]\n",
    "expected_rating_A = predict_lreg(features)[0]\n",
    "print(\"The expected rating is %f stars\" % expected_rating_A)\n",
    "# we can also compute this explicitly:\n",
    "expected_rating_B = lreg.intercept_ + 0 * lreg.coef_[0] + 1 * lreg.coef_[1]\n",
    "print(\"This is the same as %f stars\" % expected_rating_B)"
   ]
  },
  {
   "cell_type": "code",
   "execution_count": 30,
   "metadata": {
    "colab": {
     "autoexec": {
      "startup": false,
      "wait_interval": 0
     },
     "base_uri": "https://localhost:8080/",
     "height": 377
    },
    "colab_type": "code",
    "executionInfo": {
     "elapsed": 336,
     "status": "ok",
     "timestamp": 1533673530892,
     "user": {
      "displayName": "Tatsiana",
      "photoUrl": "//lh6.googleusercontent.com/-fRQ_ImaANlc/AAAAAAAAAAI/AAAAAAAAPWk/gebQb8ZW-aw/s50-c-k-no/photo.jpg",
      "userId": "111934837967779650575"
     },
     "user_tz": 240
    },
    "id": "kGhH2NuxmSW5",
    "outputId": "91377b40-5509-4f47-db10-0341a4994961"
   },
   "outputs": [
    {
     "name": "stdout",
     "output_type": "stream",
     "text": [
      "Training example number 0\n",
      "True rating = 5.000000 stars, expected rating = 4.289218 stars\n",
      "Features = 0.083333 / 0.000000\n",
      "Review text = Helps me know exactly how my babies day has gone with my mother in law watching him while I go to work.  It also has a section for her to write notes and let me know anything she may need.  I couldn't be happier with this book.\n",
      "Training example number 10000\n",
      "True rating = 5.000000 stars, expected rating = 4.389593 stars\n",
      "Features = 0.210526 / 0.052632\n",
      "Review text = I bought this for our infant seat and then bought one for or stroller as well.It is very cozy and warm. I like it because I don't have to put my baby in a bulky clothes while using this.The color is nice too.\n",
      "Training example number 20000\n",
      "True rating = 4.000000 stars, expected rating = 4.199447 stars\n",
      "Features = 0.138462 / 0.046154\n",
      "Review text = The chicco car seats are great - easy to use, high safety ratings, and nice looking.  My only complaint about this car seat is that my son sweats like crazy in it.  We live at 7,000ft so not in a warm climate by any means - houses where we live don't even have AC.  I could not imagine how much he'd sweat in a warm or humid climate.  Even after short rides in a well ventilated cool car his head totally soaks the head rest and the back of his shirt is totally soaked through.  Going to look at other options for our next baby as our son loves his car seat and going for rides until he is soaking in sweat.\n",
      "Training example number 30000\n",
      "True rating = 4.000000 stars, expected rating = 4.551867 stars\n",
      "Features = 0.166667 / 0.000000\n",
      "Review text = It keeps the baby entertained, for a while. More music variety could have been offferred, though. Also, it would have been nice if the individual animals, the danglers, moved as well. The whole round thing does move but  I think if each individual unit moved too, that would have been added to the fun. Overall, a good item.\n",
      "Training example number 50000\n",
      "True rating = 5.000000 stars, expected rating = 4.132412 stars\n",
      "Features = 0.121951 / 0.048780\n",
      "Review text = Best baby product I owned, hands down.  You need to shower, or cook?  Baby can hang out and watch you.  Tilted up so baby can see and helps digestion.  This is better than the feeding Boppy that is a half circle because when baby is young I felt the regular Boppy forced her head to be tilted up at an unnatural angle.  This is much more gradual and comfortable.  And she LOVED it.  She did not like carriers, as she wanted to see what was going on and interact.\n"
     ]
    }
   ],
   "source": [
    "def analyze_training_example(i):\n",
    "    print(\"Training example number\", i)\n",
    "    print(\"True rating = %f stars, expected rating = %f stars\" % (Y_train[i], \n",
    "                                                                  pred_train[i]))\n",
    "    print(\"Features = %f / %f\" % (X_train[i,0], X_train[i,1]))\n",
    "    print(\"Review text = %s\" % baby_train[i]['reviewText'])\n",
    "\n",
    "for i in [0, 10000, 20000, 30000, 50000]:\n",
    "    analyze_training_example(i)"
   ]
  },
  {
   "cell_type": "code",
   "execution_count": 31,
   "metadata": {
    "colab": {
     "autoexec": {
      "startup": false,
      "wait_interval": 0
     },
     "base_uri": "https://localhost:8080/",
     "height": 34
    },
    "colab_type": "code",
    "executionInfo": {
     "elapsed": 876,
     "status": "ok",
     "timestamp": 1533673542089,
     "user": {
      "displayName": "Tatsiana",
      "photoUrl": "//lh6.googleusercontent.com/-fRQ_ImaANlc/AAAAAAAAAAI/AAAAAAAAPWk/gebQb8ZW-aw/s50-c-k-no/photo.jpg",
      "userId": "111934837967779650575"
     },
     "user_tz": 240
    },
    "id": "K9BiOAqdmSW-",
    "outputId": "5eda22ed-83e7-4a63-f61f-4dbbeff33fbd"
   },
   "outputs": [
    {
     "name": "stdout",
     "output_type": "stream",
     "text": [
      "The mean absolute error on the training data is 0.827632 stars\n"
     ]
    }
   ],
   "source": [
    "from sklearn.metrics import mean_absolute_error\n",
    "mae_train = mean_absolute_error(pred_train, Y_train)\n",
    "print(\"The mean absolute error on the training data is %f stars\" % mae_train)"
   ]
  },
  {
   "cell_type": "code",
   "execution_count": 32,
   "metadata": {
    "colab": {
     "autoexec": {
      "startup": false,
      "wait_interval": 0
     },
     "base_uri": "https://localhost:8080/",
     "height": 51
    },
    "colab_type": "code",
    "executionInfo": {
     "elapsed": 284,
     "status": "ok",
     "timestamp": 1533673543332,
     "user": {
      "displayName": "Tatsiana",
      "photoUrl": "//lh6.googleusercontent.com/-fRQ_ImaANlc/AAAAAAAAAAI/AAAAAAAAPWk/gebQb8ZW-aw/s50-c-k-no/photo.jpg",
      "userId": "111934837967779650575"
     },
     "user_tz": 240
    },
    "id": "gEtysWwnmSXE",
    "outputId": "9a7c52fd-1559-4dd5-d409-942a382350f8"
   },
   "outputs": [
    {
     "name": "stdout",
     "output_type": "stream",
     "text": [
      "The training data contains 21.186160 % dissatisfied customers\n",
      "[False False False False False False  True  True False False]\n"
     ]
    }
   ],
   "source": [
    "def discretize_targets(Y):\n",
    "    return Y<=3.0\n",
    "\n",
    "D_train = discretize_targets(Y_train)\n",
    "print(\"The training data contains %f %% dissatisfied customers\" % (100.*D_train.mean()))\n",
    "print(D_train[:10])"
   ]
  },
  {
   "cell_type": "code",
   "execution_count": 34,
   "metadata": {
    "colab": {
     "autoexec": {
      "startup": false,
      "wait_interval": 0
     },
     "base_uri": "https://localhost:8080/",
     "height": 364
    },
    "colab_type": "code",
    "executionInfo": {
     "elapsed": 494,
     "status": "ok",
     "timestamp": 1533673547948,
     "user": {
      "displayName": "Tatsiana",
      "photoUrl": "//lh6.googleusercontent.com/-fRQ_ImaANlc/AAAAAAAAAAI/AAAAAAAAPWk/gebQb8ZW-aw/s50-c-k-no/photo.jpg",
      "userId": "111934837967779650575"
     },
     "user_tz": 240
    },
    "id": "J-vti84PmSXH",
    "outputId": "64a41334-575f-49e1-c2e2-572c2f65b393"
   },
   "outputs": [
    {
     "data": {
      "text/plain": [
       "<matplotlib.axes._subplots.AxesSubplot at 0x7fa1cea3a198>"
      ]
     },
     "execution_count": 34,
     "metadata": {
      "tags": []
     },
     "output_type": "execute_result"
    },
    {
     "data": {
      "image/png": "[encoded data removed]",
      "text/plain": [
       "<matplotlib.figure.Figure at 0x7fa1cea591d0>"
      ]
     },
     "metadata": {
      "tags": []
     },
     "output_type": "display_data"
    }
   ],
   "source": [
    "points = numpy.linspace(-6.0, 6.0)\n",
    "logistic_function = pandas.Series(1/(numpy.exp(-points)+1), index=points)\n",
    "logistic_function.plot()"
   ]
  },
  {
   "cell_type": "code",
   "execution_count": 35,
   "metadata": {
    "colab": {
     "autoexec": {
      "startup": false,
      "wait_interval": 0
     },
     "base_uri": "https://localhost:8080/",
     "height": 119
    },
    "colab_type": "code",
    "executionInfo": {
     "elapsed": 405,
     "status": "ok",
     "timestamp": 1533673552981,
     "user": {
      "displayName": "Tatsiana",
      "photoUrl": "//lh6.googleusercontent.com/-fRQ_ImaANlc/AAAAAAAAAAI/AAAAAAAAPWk/gebQb8ZW-aw/s50-c-k-no/photo.jpg",
      "userId": "111934837967779650575"
     },
     "user_tz": 240
    },
    "id": "ypU4Lj0jmSXP",
    "outputId": "808c4997-5919-4179-e806-851932bbe2c4"
   },
   "outputs": [
    {
     "name": "stdout",
     "output_type": "stream",
     "text": [
      "Training example number 25008\n",
      "True rating = 2.000000 stars\n",
      "Expected to be dissatisfied: True\n",
      "Expected probability of being dissatisfied : 0.999861\n",
      "Features = 0.000000 / 1.000000\n",
      "Review text = too noisy\n"
     ]
    }
   ],
   "source": [
    "from  sklearn.linear_model  import LogisticRegression\n",
    "logreg = LogisticRegression().fit(X_train, D_train)\n",
    "# The predict_proba() method produces a matrix with two columns\n",
    "# the first column contains the probability for the label being \"false\" (satisfied customer)\n",
    "# the second column contains the probability for the label being \"true\" (dissatisfied customer)\n",
    "# the sum of both columns is 1\n",
    "# we select the second column with [:,1]\n",
    "# [:,0] would select the first column\n",
    "# [1,:] would select the second row\n",
    "prob2_train = logreg.predict_proba(X_train)[:,1]\n",
    "pred2_train = prob2_train > 0.5\n",
    "max_prob2 = numpy.argmax(prob2_train)\n",
    "min_prob2 = numpy.argmin(prob2_train)\n",
    "\n",
    "def analyze_training_example_2(i):\n",
    "    print(\"Training example number\", i)\n",
    "    print(\"True rating = %f stars\" % Y_train[i])\n",
    "    print(\"Expected to be dissatisfied:\", pred2_train[i])\n",
    "    print(\"Expected probability of being dissatisfied : %f\" % prob2_train[i])\n",
    "    print(\"Features = %f / %f\" % (X_train[i,0], X_train[i,1]))\n",
    "    print(\"Review text = %s\" % baby_train[i]['reviewText'])\n",
    "    \n",
    "analyze_training_example_2(max_prob2)"
   ]
  },
  {
   "cell_type": "code",
   "execution_count": 36,
   "metadata": {
    "colab": {
     "autoexec": {
      "startup": false,
      "wait_interval": 0
     },
     "base_uri": "https://localhost:8080/",
     "height": 119
    },
    "colab_type": "code",
    "executionInfo": {
     "elapsed": 312,
     "status": "ok",
     "timestamp": 1533673555571,
     "user": {
      "displayName": "Tatsiana",
      "photoUrl": "//lh6.googleusercontent.com/-fRQ_ImaANlc/AAAAAAAAAAI/AAAAAAAAPWk/gebQb8ZW-aw/s50-c-k-no/photo.jpg",
      "userId": "111934837967779650575"
     },
     "user_tz": 240
    },
    "id": "68VlY8D_mSXS",
    "outputId": "e17a8618-ba8c-4f3f-a631-0150eec00d60"
   },
   "outputs": [
    {
     "name": "stdout",
     "output_type": "stream",
     "text": [
      "Training example number 5900\n",
      "True rating = 5.000000 stars\n",
      "Expected to be dissatisfied: False\n",
      "Expected probability of being dissatisfied : 0.000036\n",
      "Features = 1.000000 / 0.000000\n",
      "Review text = useful peace\n"
     ]
    }
   ],
   "source": [
    "analyze_training_example_2(min_prob2)"
   ]
  },
  {
   "cell_type": "code",
   "execution_count": 37,
   "metadata": {
    "colab": {
     "autoexec": {
      "startup": false,
      "wait_interval": 0
     },
     "base_uri": "https://localhost:8080/",
     "height": 34
    },
    "colab_type": "code",
    "executionInfo": {
     "elapsed": 296,
     "status": "ok",
     "timestamp": 1533673558071,
     "user": {
      "displayName": "Tatsiana",
      "photoUrl": "//lh6.googleusercontent.com/-fRQ_ImaANlc/AAAAAAAAAAI/AAAAAAAAPWk/gebQb8ZW-aw/s50-c-k-no/photo.jpg",
      "userId": "111934837967779650575"
     },
     "user_tz": 240
    },
    "id": "AVkUrHKDmSXU",
    "outputId": "2c9de4db-8f44-4eee-aadf-58355f45ebe9"
   },
   "outputs": [
    {
     "name": "stdout",
     "output_type": "stream",
     "text": [
      "For the default threshold (0.5) we get precision = 0.593068 and recall = 0.090362\n"
     ]
    }
   ],
   "source": [
    "from  sklearn.metrics  import precision_score, recall_score\n",
    "precision2 = precision_score(D_train, pred2_train)\n",
    "recall2 = recall_score(D_train, pred2_train)\n",
    "print(\"For the default threshold (0.5) we get precision = %f \"\n",
    "      \"and recall = %f\" % (precision2, recall2))"
   ]
  },
  {
   "cell_type": "code",
   "execution_count": 38,
   "metadata": {
    "colab": {
     "autoexec": {
      "startup": false,
      "wait_interval": 0
     },
     "base_uri": "https://localhost:8080/",
     "height": 381
    },
    "colab_type": "code",
    "executionInfo": {
     "elapsed": 411,
     "status": "ok",
     "timestamp": 1533673560578,
     "user": {
      "displayName": "Tatsiana",
      "photoUrl": "//lh6.googleusercontent.com/-fRQ_ImaANlc/AAAAAAAAAAI/AAAAAAAAPWk/gebQb8ZW-aw/s50-c-k-no/photo.jpg",
      "userId": "111934837967779650575"
     },
     "user_tz": 240
    },
    "id": "_BrpHM8ZmSXX",
    "outputId": "33dea7fb-2502-4b9c-909a-ac25aad47f97"
   },
   "outputs": [
    {
     "name": "stdout",
     "output_type": "stream",
     "text": [
      "Precision as function of threshold:\n"
     ]
    },
    {
     "data": {
      "text/plain": [
       "<matplotlib.axes._subplots.AxesSubplot at 0x7fa1ce588f28>"
      ]
     },
     "execution_count": 38,
     "metadata": {
      "tags": []
     },
     "output_type": "execute_result"
    },
    {
     "data": {
      "image/png": "[encoded data removed]",
      "text/plain": [
       "<matplotlib.figure.Figure at 0x7fa1ce588b38>"
      ]
     },
     "metadata": {
      "tags": []
     },
     "output_type": "display_data"
    }
   ],
   "source": [
    "from  sklearn.metrics  import precision_recall_curve\n",
    "all_precision2, all_recall2, all_thresh2 = precision_recall_curve(\n",
    "    D_train, prob2_train)\n",
    "print(\"Precision as function of threshold:\")\n",
    "pandas.Series(all_precision2[:-1], index=all_thresh2).plot()"
   ]
  },
  {
   "cell_type": "code",
   "execution_count": 39,
   "metadata": {
    "colab": {
     "autoexec": {
      "startup": false,
      "wait_interval": 0
     },
     "base_uri": "https://localhost:8080/",
     "height": 381
    },
    "colab_type": "code",
    "executionInfo": {
     "elapsed": 357,
     "status": "ok",
     "timestamp": 1533673563011,
     "user": {
      "displayName": "Tatsiana",
      "photoUrl": "//lh6.googleusercontent.com/-fRQ_ImaANlc/AAAAAAAAAAI/AAAAAAAAPWk/gebQb8ZW-aw/s50-c-k-no/photo.jpg",
      "userId": "111934837967779650575"
     },
     "user_tz": 240
    },
    "id": "1ynzyb__mSXZ",
    "outputId": "5292e992-60e7-41ff-b573-999c91f31e98"
   },
   "outputs": [
    {
     "name": "stdout",
     "output_type": "stream",
     "text": [
      "Recall as function of threshold:\n"
     ]
    },
    {
     "data": {
      "text/plain": [
       "<matplotlib.axes._subplots.AxesSubplot at 0x7fa1ce5a34a8>"
      ]
     },
     "execution_count": 39,
     "metadata": {
      "tags": []
     },
     "output_type": "execute_result"
    },
    {
     "data": {
      "image/png": "[encoded data removed]",
      "text/plain": [
       "<matplotlib.figure.Figure at 0x7fa1ce75c940>"
      ]
     },
     "metadata": {
      "tags": []
     },
     "output_type": "display_data"
    }
   ],
   "source": [
    "print(\"Recall as function of threshold:\")\n",
    "pandas.Series(all_recall2[:-1], index=all_thresh2).plot()"
   ]
  },
  {
   "cell_type": "code",
   "execution_count": 40,
   "metadata": {
    "colab": {
     "autoexec": {
      "startup": false,
      "wait_interval": 0
     },
     "base_uri": "https://localhost:8080/",
     "height": 381
    },
    "colab_type": "code",
    "executionInfo": {
     "elapsed": 469,
     "status": "ok",
     "timestamp": 1533673565803,
     "user": {
      "displayName": "Tatsiana",
      "photoUrl": "//lh6.googleusercontent.com/-fRQ_ImaANlc/AAAAAAAAAAI/AAAAAAAAPWk/gebQb8ZW-aw/s50-c-k-no/photo.jpg",
      "userId": "111934837967779650575"
     },
     "user_tz": 240
    },
    "id": "WvuhF4rWmSXc",
    "outputId": "30c40f47-c392-4b38-91c6-cde3e1282fe5"
   },
   "outputs": [
    {
     "name": "stdout",
     "output_type": "stream",
     "text": [
      "Recall as function of precision:\n"
     ]
    },
    {
     "data": {
      "text/plain": [
       "<matplotlib.axes._subplots.AxesSubplot at 0x7fa1cee77978>"
      ]
     },
     "execution_count": 40,
     "metadata": {
      "tags": []
     },
     "output_type": "execute_result"
    },
    {
     "data": {
      "image/png": "[encoded data removed]",
      "text/plain": [
       "<matplotlib.figure.Figure at 0x7fa1cf1ddd30>"
      ]
     },
     "metadata": {
      "tags": []
     },
     "output_type": "display_data"
    }
   ],
   "source": [
    "print(\"Recall as function of precision:\")\n",
    "pandas.Series(all_recall2[:-1], index=all_precision2[:-1]).plot()"
   ]
  },
  {
   "cell_type": "code",
   "execution_count": 41,
   "metadata": {
    "colab": {
     "autoexec": {
      "startup": false,
      "wait_interval": 0
     },
     "base_uri": "https://localhost:8080/",
     "height": 381
    },
    "colab_type": "code",
    "executionInfo": {
     "elapsed": 522,
     "status": "ok",
     "timestamp": 1533673568631,
     "user": {
      "displayName": "Tatsiana",
      "photoUrl": "//lh6.googleusercontent.com/-fRQ_ImaANlc/AAAAAAAAAAI/AAAAAAAAPWk/gebQb8ZW-aw/s50-c-k-no/photo.jpg",
      "userId": "111934837967779650575"
     },
     "user_tz": 240
    },
    "id": "CUSNe43gmSXg",
    "outputId": "10b08592-3e18-4674-d7c4-d21b4422e2f4"
   },
   "outputs": [
    {
     "name": "stdout",
     "output_type": "stream",
     "text": [
      "Now the precision is 0.477679 and the recall is 0.155396\n"
     ]
    },
    {
     "data": {
      "text/plain": [
       "<matplotlib.axes._subplots.AxesSubplot at 0x7fa1cec79e80>"
      ]
     },
     "execution_count": 41,
     "metadata": {
      "tags": []
     },
     "output_type": "execute_result"
    },
    {
     "data": {
      "image/png": "[encoded data removed]",
      "text/plain": [
       "<matplotlib.figure.Figure at 0x7fa1cf1dde80>"
      ]
     },
     "metadata": {
      "tags": []
     },
     "output_type": "display_data"
    }
   ],
   "source": [
    "from sklearn.naive_bayes import GaussianNB, BernoulliNB\n",
    "nb = GaussianNB().fit(X_train, D_train)\n",
    "prob3_train = nb.predict_proba(X_train)[:,1]\n",
    "pred3_train = prob3_train>0.5\n",
    "precision3 = precision_score(D_train, pred3_train)\n",
    "recall3 = recall_score(D_train, pred3_train)\n",
    "print(\"Now the precision is %f and the recall is %f\" % (precision3, recall3))\n",
    "all_precision3, all_recall3, all_thresh3 = precision_recall_curve(\n",
    "    D_train, prob3_train)\n",
    "pandas.Series(all_recall3[:-1], index=all_precision3[:-1]).plot()"
   ]
  },
  {
   "cell_type": "code",
   "execution_count": 42,
   "metadata": {
    "colab": {
     "autoexec": {
      "startup": false,
      "wait_interval": 0
     },
     "base_uri": "https://localhost:8080/",
     "height": 119
    },
    "colab_type": "code",
    "executionInfo": {
     "elapsed": 486,
     "status": "ok",
     "timestamp": 1533673571617,
     "user": {
      "displayName": "Tatsiana",
      "photoUrl": "//lh6.googleusercontent.com/-fRQ_ImaANlc/AAAAAAAAAAI/AAAAAAAAPWk/gebQb8ZW-aw/s50-c-k-no/photo.jpg",
      "userId": "111934837967779650575"
     },
     "user_tz": 240
    },
    "id": "ILiqecKkmSXi",
    "outputId": "18a211d7-1a3c-4cf2-98f7-a1f57936a41c"
   },
   "outputs": [
    {
     "name": "stdout",
     "output_type": "stream",
     "text": [
      "Training example number 25008\n",
      "True rating = 2.000000 stars\n",
      "Expected to be dissatisfied: True\n",
      "Expected probability of being dissatisfied : 0.999861\n",
      "Features = 0.000000 / 1.000000\n",
      "Review text = too noisy\n"
     ]
    }
   ],
   "source": [
    "from  sklearn.linear_model  import LogisticRegression\n",
    "logreg = LogisticRegression().fit(X_train, D_train)\n",
    "# The predict_proba() method produces a matrix with two columns\n",
    "# the first column contains the probability for the label being \"false\" (satisfied customer)\n",
    "# the second column contains the probability for the label being \"true\" (dissatisfied customer)\n",
    "# the sum of both columns is 1\n",
    "# we select the second column with [:,1]\n",
    "# [:,0] would select the first column\n",
    "# [1,:] would select the second row\n",
    "prob2_train = logreg.predict_proba(X_train)[:,1]\n",
    "pred2_train = prob2_train > 0.2\n",
    "max_prob2 = numpy.argmax(prob2_train)\n",
    "min_prob2 = numpy.argmin(prob2_train)\n",
    "\n",
    "def analyze_training_example_2(i):\n",
    "    print(\"Training example number\", i)\n",
    "    print(\"True rating = %f stars\" % Y_train[i])\n",
    "    print(\"Expected to be dissatisfied:\", pred2_train[i])\n",
    "    print(\"Expected probability of being dissatisfied : %f\" % prob2_train[i])\n",
    "    print(\"Features = %f / %f\" % (X_train[i,0], X_train[i,1]))\n",
    "    print(\"Review text = %s\" % baby_train[i]['reviewText'])\n",
    "    \n",
    "analyze_training_example_2(max_prob2)"
   ]
  },
  {
   "cell_type": "code",
   "execution_count": 43,
   "metadata": {
    "colab": {
     "autoexec": {
      "startup": false,
      "wait_interval": 0
     },
     "base_uri": "https://localhost:8080/",
     "height": 119
    },
    "colab_type": "code",
    "executionInfo": {
     "elapsed": 411,
     "status": "ok",
     "timestamp": 1533673574671,
     "user": {
      "displayName": "Tatsiana",
      "photoUrl": "//lh6.googleusercontent.com/-fRQ_ImaANlc/AAAAAAAAAAI/AAAAAAAAPWk/gebQb8ZW-aw/s50-c-k-no/photo.jpg",
      "userId": "111934837967779650575"
     },
     "user_tz": 240
    },
    "id": "jDhOg_43mSXk",
    "outputId": "49cd76aa-b6b8-462f-dd80-ae419a178651"
   },
   "outputs": [
    {
     "name": "stdout",
     "output_type": "stream",
     "text": [
      "Training example number 5900\n",
      "True rating = 5.000000 stars\n",
      "Expected to be dissatisfied: False\n",
      "Expected probability of being dissatisfied : 0.000036\n",
      "Features = 1.000000 / 0.000000\n",
      "Review text = useful peace\n"
     ]
    }
   ],
   "source": [
    "analyze_training_example_2(min_prob2)"
   ]
  },
  {
   "cell_type": "code",
   "execution_count": 44,
   "metadata": {
    "colab": {
     "autoexec": {
      "startup": false,
      "wait_interval": 0
     },
     "base_uri": "https://localhost:8080/",
     "height": 34
    },
    "colab_type": "code",
    "executionInfo": {
     "elapsed": 368,
     "status": "ok",
     "timestamp": 1533673576435,
     "user": {
      "displayName": "Tatsiana",
      "photoUrl": "//lh6.googleusercontent.com/-fRQ_ImaANlc/AAAAAAAAAAI/AAAAAAAAPWk/gebQb8ZW-aw/s50-c-k-no/photo.jpg",
      "userId": "111934837967779650575"
     },
     "user_tz": 240
    },
    "id": "woM2WQx_mSXn",
    "outputId": "062c5aad-6651-4d68-e9f3-73bf61acfb16"
   },
   "outputs": [
    {
     "name": "stdout",
     "output_type": "stream",
     "text": [
      "For the default threshold (0.2) we get precision = 0.320627 and recall = 0.733705\n"
     ]
    }
   ],
   "source": [
    "from  sklearn.metrics  import precision_score, recall_score\n",
    "precision2 = precision_score(D_train, pred2_train)\n",
    "recall2 = recall_score(D_train, pred2_train)\n",
    "print(\"For the default threshold (0.2) we get precision = %f \"\n",
    "      \"and recall = %f\" % (precision2, recall2))"
   ]
  },
  {
   "cell_type": "code",
   "execution_count": 45,
   "metadata": {
    "colab": {
     "autoexec": {
      "startup": false,
      "wait_interval": 0
     },
     "base_uri": "https://localhost:8080/",
     "height": 381
    },
    "colab_type": "code",
    "executionInfo": {
     "elapsed": 667,
     "status": "ok",
     "timestamp": 1533673578793,
     "user": {
      "displayName": "Tatsiana",
      "photoUrl": "//lh6.googleusercontent.com/-fRQ_ImaANlc/AAAAAAAAAAI/AAAAAAAAPWk/gebQb8ZW-aw/s50-c-k-no/photo.jpg",
      "userId": "111934837967779650575"
     },
     "user_tz": 240
    },
    "id": "WeXXghRUmSXq",
    "outputId": "cb23f759-9066-4e14-9dde-a1116aa77d40"
   },
   "outputs": [
    {
     "name": "stdout",
     "output_type": "stream",
     "text": [
      "Precision as function of threshold:\n"
     ]
    },
    {
     "data": {
      "text/plain": [
       "<matplotlib.axes._subplots.AxesSubplot at 0x7fa1cf1c7668>"
      ]
     },
     "execution_count": 45,
     "metadata": {
      "tags": []
     },
     "output_type": "execute_result"
    },
    {
     "data": {
      "image/png": "[encoded data removed]",
      "text/plain": [
       "<matplotlib.figure.Figure at 0x7fa1ceb3fda0>"
      ]
     },
     "metadata": {
      "tags": []
     },
     "output_type": "display_data"
    }
   ],
   "source": [
    "from  sklearn.metrics  import precision_recall_curve\n",
    "all_precision2, all_recall2, all_thresh2 = precision_recall_curve(\n",
    "    D_train, prob2_train)\n",
    "print(\"Precision as function of threshold:\")\n",
    "pandas.Series(all_precision2[:-1], index=all_thresh2).plot()"
   ]
  },
  {
   "cell_type": "code",
   "execution_count": 46,
   "metadata": {
    "colab": {
     "autoexec": {
      "startup": false,
      "wait_interval": 0
     },
     "base_uri": "https://localhost:8080/",
     "height": 381
    },
    "colab_type": "code",
    "executionInfo": {
     "elapsed": 444,
     "status": "ok",
     "timestamp": 1533673581430,
     "user": {
      "displayName": "Tatsiana",
      "photoUrl": "//lh6.googleusercontent.com/-fRQ_ImaANlc/AAAAAAAAAAI/AAAAAAAAPWk/gebQb8ZW-aw/s50-c-k-no/photo.jpg",
      "userId": "111934837967779650575"
     },
     "user_tz": 240
    },
    "id": "6GaddS-PmSXt",
    "outputId": "4ce35eb4-4444-408c-965a-3c611dc2d14e"
   },
   "outputs": [
    {
     "name": "stdout",
     "output_type": "stream",
     "text": [
      "Recall as function of threshold:\n"
     ]
    },
    {
     "data": {
      "text/plain": [
       "<matplotlib.axes._subplots.AxesSubplot at 0x7fa1ce972c88>"
      ]
     },
     "execution_count": 46,
     "metadata": {
      "tags": []
     },
     "output_type": "execute_result"
    },
    {
     "data": {
      "image/png": "[encoded data removed]",
      "text/plain": [
       "<matplotlib.figure.Figure at 0x7fa1ce5999b0>"
      ]
     },
     "metadata": {
      "tags": []
     },
     "output_type": "display_data"
    }
   ],
   "source": [
    "print(\"Recall as function of threshold:\")\n",
    "pandas.Series(all_recall2[:-1], index=all_thresh2).plot()"
   ]
  },
  {
   "cell_type": "code",
   "execution_count": 47,
   "metadata": {
    "colab": {
     "autoexec": {
      "startup": false,
      "wait_interval": 0
     },
     "base_uri": "https://localhost:8080/",
     "height": 381
    },
    "colab_type": "code",
    "executionInfo": {
     "elapsed": 524,
     "status": "ok",
     "timestamp": 1533673584207,
     "user": {
      "displayName": "Tatsiana",
      "photoUrl": "//lh6.googleusercontent.com/-fRQ_ImaANlc/AAAAAAAAAAI/AAAAAAAAPWk/gebQb8ZW-aw/s50-c-k-no/photo.jpg",
      "userId": "111934837967779650575"
     },
     "user_tz": 240
    },
    "id": "P9di3RMHmSXv",
    "outputId": "d5506900-7bce-4bb3-b2e1-ea5a039c8d7a"
   },
   "outputs": [
    {
     "name": "stdout",
     "output_type": "stream",
     "text": [
      "Recall as function of precision:\n"
     ]
    },
    {
     "data": {
      "text/plain": [
       "<matplotlib.axes._subplots.AxesSubplot at 0x7fa1ce852ac8>"
      ]
     },
     "execution_count": 47,
     "metadata": {
      "tags": []
     },
     "output_type": "execute_result"
    },
    {
     "data": {
      "image/png": "[encoded data removed]",
      "text/plain": [
       "<matplotlib.figure.Figure at 0x7fa1cf1526a0>"
      ]
     },
     "metadata": {
      "tags": []
     },
     "output_type": "display_data"
    }
   ],
   "source": [
    "import pandas\n",
    "print(\"Recall as function of precision:\")\n",
    "pandas.Series(all_recall2[:-1], index=all_precision2[:-1]).plot()"
   ]
  },
  {
   "cell_type": "code",
   "execution_count": 48,
   "metadata": {
    "colab": {
     "autoexec": {
      "startup": false,
      "wait_interval": 0
     },
     "base_uri": "https://localhost:8080/",
     "height": 381
    },
    "colab_type": "code",
    "executionInfo": {
     "elapsed": 489,
     "status": "ok",
     "timestamp": 1533673586864,
     "user": {
      "displayName": "Tatsiana",
      "photoUrl": "//lh6.googleusercontent.com/-fRQ_ImaANlc/AAAAAAAAAAI/AAAAAAAAPWk/gebQb8ZW-aw/s50-c-k-no/photo.jpg",
      "userId": "111934837967779650575"
     },
     "user_tz": 240
    },
    "id": "FouJhPZHmSXz",
    "outputId": "9a14f603-5960-45a0-97b1-aeccb85afe53"
   },
   "outputs": [
    {
     "name": "stdout",
     "output_type": "stream",
     "text": [
      "Now the precision is 0.301929 and the recall is 0.786807\n"
     ]
    },
    {
     "data": {
      "text/plain": [
       "<matplotlib.axes._subplots.AxesSubplot at 0x7fa1ce6c0fd0>"
      ]
     },
     "execution_count": 48,
     "metadata": {
      "tags": []
     },
     "output_type": "execute_result"
    },
    {
     "data": {
      "image/png": "[encoded data removed]",
      "text/plain": [
       "<matplotlib.figure.Figure at 0x7fa1ce489a90>"
      ]
     },
     "metadata": {
      "tags": []
     },
     "output_type": "display_data"
    }
   ],
   "source": [
    "from sklearn.naive_bayes import GaussianNB, BernoulliNB\n",
    "nb = GaussianNB().fit(X_train, D_train)\n",
    "prob3_train = nb.predict_proba(X_train)[:,1]\n",
    "pred3_train = prob3_train>0.2\n",
    "precision3 = precision_score(D_train, pred3_train)\n",
    "recall3 = recall_score(D_train, pred3_train)\n",
    "print(\"Now the precision is %f and the recall is %f\" % (precision3, recall3))\n",
    "all_precision3, all_recall3, all_thresh3 = precision_recall_curve(\n",
    "    D_train, prob3_train)\n",
    "pandas.Series(all_recall3[:-1], index=all_precision3[:-1]).plot()"
   ]
  },
  {
   "cell_type": "markdown",
   "metadata": {},
   "source": [
    "# Using colab for tensortflow"
   ]
  },
  {
   "cell_type": "code",
   "execution_count": 49,
   "metadata": {
    "colab": {
     "autoexec": {
      "startup": false,
      "wait_interval": 0
     },
     "base_uri": "https://localhost:8080/",
     "height": 1941
    },
    "colab_type": "code",
    "executionInfo": {
     "elapsed": 9338,
     "status": "ok",
     "timestamp": 1533673598335,
     "user": {
      "displayName": "Tatsiana",
      "photoUrl": "//lh6.googleusercontent.com/-fRQ_ImaANlc/AAAAAAAAAAI/AAAAAAAAPWk/gebQb8ZW-aw/s50-c-k-no/photo.jpg",
      "userId": "111934837967779650575"
     },
     "user_tz": 240
    },
    "id": "VxMlx_Atmbkr",
    "outputId": "d2dacdd7-6337-473c-cb19-af24e73ed839"
   },
   "outputs": [
    {
     "name": "stdout",
     "output_type": "stream",
     "text": [
      "INFO:tensorflow:Using default config.\n",
      "WARNING:tensorflow:Using temporary folder as model directory: /tmp/tmpqhf8x9tp\n",
      "INFO:tensorflow:Using config: {'_model_dir': '/tmp/tmpqhf8x9tp', '_tf_random_seed': None, '_save_summary_steps': 100, '_save_checkpoints_steps': None, '_save_checkpoints_secs': 600, '_session_config': None, '_keep_checkpoint_max': 5, '_keep_checkpoint_every_n_hours': 10000, '_log_step_count_steps': 100, '_train_distribute': None, '_device_fn': None, '_service': None, '_cluster_spec': <tensorflow.python.training.server_lib.ClusterSpec object at 0x7fa1c1c49f98>, '_task_type': 'worker', '_task_id': 0, '_global_id_in_cluster': 0, '_master': '', '_evaluation_master': '', '_is_chief': True, '_num_ps_replicas': 0, '_num_worker_replicas': 1}\n",
      "INFO:tensorflow:Calling model_fn.\n",
      "INFO:tensorflow:Done calling model_fn.\n",
      "INFO:tensorflow:Create CheckpointSaverHook.\n",
      "INFO:tensorflow:Graph was finalized.\n",
      "INFO:tensorflow:Running local_init_op.\n",
      "INFO:tensorflow:Done running local_init_op.\n",
      "INFO:tensorflow:Saving checkpoints for 0 into /tmp/tmpqhf8x9tp/model.ckpt.\n",
      "INFO:tensorflow:loss = 2519.0, step = 1\n",
      "INFO:tensorflow:global_step/sec: 562.332\n",
      "INFO:tensorflow:loss = 271.7454, step = 101 (0.179 sec)\n",
      "INFO:tensorflow:global_step/sec: 806.223\n",
      "INFO:tensorflow:loss = 180.61124, step = 201 (0.125 sec)\n",
      "INFO:tensorflow:global_step/sec: 983.65\n",
      "INFO:tensorflow:loss = 210.29936, step = 301 (0.101 sec)\n",
      "INFO:tensorflow:global_step/sec: 781.978\n",
      "INFO:tensorflow:loss = 163.01466, step = 401 (0.128 sec)\n",
      "INFO:tensorflow:global_step/sec: 742.72\n",
      "INFO:tensorflow:loss = 167.72705, step = 501 (0.134 sec)\n",
      "INFO:tensorflow:global_step/sec: 763.516\n",
      "INFO:tensorflow:loss = 151.63443, step = 601 (0.131 sec)\n",
      "INFO:tensorflow:global_step/sec: 635.608\n",
      "INFO:tensorflow:loss = 137.76366, step = 701 (0.159 sec)\n",
      "INFO:tensorflow:global_step/sec: 696.823\n",
      "INFO:tensorflow:loss = 153.11504, step = 801 (0.143 sec)\n",
      "INFO:tensorflow:global_step/sec: 707.088\n",
      "INFO:tensorflow:loss = 158.38066, step = 901 (0.141 sec)\n",
      "INFO:tensorflow:global_step/sec: 791.095\n",
      "INFO:tensorflow:loss = 149.92392, step = 1001 (0.127 sec)\n",
      "INFO:tensorflow:global_step/sec: 812.148\n",
      "INFO:tensorflow:loss = 138.14804, step = 1101 (0.123 sec)\n",
      "INFO:tensorflow:global_step/sec: 793.62\n",
      "INFO:tensorflow:loss = 166.47403, step = 1201 (0.126 sec)\n",
      "INFO:tensorflow:global_step/sec: 778.768\n",
      "INFO:tensorflow:loss = 167.73566, step = 1301 (0.129 sec)\n",
      "INFO:tensorflow:global_step/sec: 655.003\n",
      "INFO:tensorflow:loss = 98.4819, step = 1401 (0.153 sec)\n",
      "INFO:tensorflow:global_step/sec: 524.938\n",
      "INFO:tensorflow:loss = 138.08835, step = 1501 (0.191 sec)\n",
      "INFO:tensorflow:global_step/sec: 757.996\n",
      "INFO:tensorflow:loss = 111.140594, step = 1601 (0.130 sec)\n",
      "INFO:tensorflow:global_step/sec: 674.96\n",
      "INFO:tensorflow:loss = 140.15347, step = 1701 (0.150 sec)\n",
      "INFO:tensorflow:global_step/sec: 561.802\n",
      "INFO:tensorflow:loss = 191.28067, step = 1801 (0.177 sec)\n",
      "INFO:tensorflow:global_step/sec: 721.89\n",
      "INFO:tensorflow:loss = 129.92175, step = 1901 (0.138 sec)\n",
      "INFO:tensorflow:global_step/sec: 751.504\n",
      "INFO:tensorflow:loss = 104.721344, step = 2001 (0.134 sec)\n",
      "INFO:tensorflow:global_step/sec: 672.608\n",
      "INFO:tensorflow:loss = 134.7032, step = 2101 (0.153 sec)\n",
      "INFO:tensorflow:global_step/sec: 675.544\n",
      "INFO:tensorflow:loss = 129.34232, step = 2201 (0.143 sec)\n",
      "INFO:tensorflow:global_step/sec: 803.446\n",
      "INFO:tensorflow:loss = 128.94893, step = 2301 (0.129 sec)\n",
      "INFO:tensorflow:global_step/sec: 581.616\n",
      "INFO:tensorflow:loss = 126.934395, step = 2401 (0.169 sec)\n",
      "INFO:tensorflow:global_step/sec: 544.339\n",
      "INFO:tensorflow:loss = 132.45938, step = 2501 (0.183 sec)\n",
      "INFO:tensorflow:global_step/sec: 570.539\n",
      "INFO:tensorflow:loss = 147.88986, step = 2601 (0.175 sec)\n",
      "INFO:tensorflow:global_step/sec: 869.044\n",
      "INFO:tensorflow:loss = 153.20367, step = 2701 (0.118 sec)\n",
      "INFO:tensorflow:global_step/sec: 685.087\n",
      "INFO:tensorflow:loss = 133.86838, step = 2801 (0.143 sec)\n",
      "INFO:tensorflow:global_step/sec: 551.151\n",
      "INFO:tensorflow:loss = 122.91887, step = 2901 (0.181 sec)\n",
      "INFO:tensorflow:global_step/sec: 693.641\n",
      "INFO:tensorflow:loss = 113.646416, step = 3001 (0.144 sec)\n",
      "INFO:tensorflow:global_step/sec: 708.152\n",
      "INFO:tensorflow:loss = 148.55136, step = 3101 (0.146 sec)\n",
      "INFO:tensorflow:global_step/sec: 663.478\n",
      "INFO:tensorflow:loss = 151.06216, step = 3201 (0.147 sec)\n",
      "INFO:tensorflow:global_step/sec: 653.843\n",
      "INFO:tensorflow:loss = 157.93866, step = 3301 (0.154 sec)\n",
      "INFO:tensorflow:global_step/sec: 570.338\n",
      "INFO:tensorflow:loss = 108.204384, step = 3401 (0.174 sec)\n",
      "INFO:tensorflow:global_step/sec: 708.732\n",
      "INFO:tensorflow:loss = 114.35518, step = 3501 (0.142 sec)\n",
      "INFO:tensorflow:global_step/sec: 703.993\n",
      "INFO:tensorflow:loss = 135.73889, step = 3601 (0.143 sec)\n",
      "INFO:tensorflow:global_step/sec: 656.999\n",
      "INFO:tensorflow:loss = 180.97612, step = 3701 (0.152 sec)\n",
      "INFO:tensorflow:global_step/sec: 753.27\n",
      "INFO:tensorflow:loss = 172.09604, step = 3801 (0.131 sec)\n",
      "INFO:tensorflow:global_step/sec: 738.436\n",
      "INFO:tensorflow:loss = 135.45215, step = 3901 (0.135 sec)\n",
      "INFO:tensorflow:global_step/sec: 728.006\n",
      "INFO:tensorflow:loss = 135.58768, step = 4001 (0.138 sec)\n",
      "INFO:tensorflow:global_step/sec: 762.444\n",
      "INFO:tensorflow:loss = 161.14728, step = 4101 (0.132 sec)\n",
      "INFO:tensorflow:global_step/sec: 746.031\n",
      "INFO:tensorflow:loss = 175.98174, step = 4201 (0.136 sec)\n",
      "INFO:tensorflow:global_step/sec: 552.299\n",
      "INFO:tensorflow:loss = 157.11209, step = 4301 (0.179 sec)\n",
      "INFO:tensorflow:global_step/sec: 684.57\n",
      "INFO:tensorflow:loss = 176.8489, step = 4401 (0.146 sec)\n",
      "INFO:tensorflow:global_step/sec: 700.621\n",
      "INFO:tensorflow:loss = 169.5799, step = 4501 (0.144 sec)\n",
      "INFO:tensorflow:global_step/sec: 690.224\n",
      "INFO:tensorflow:loss = 129.5205, step = 4601 (0.145 sec)\n",
      "INFO:tensorflow:global_step/sec: 624.724\n",
      "INFO:tensorflow:loss = 124.00397, step = 4701 (0.158 sec)\n",
      "INFO:tensorflow:global_step/sec: 780.742\n",
      "INFO:tensorflow:loss = 126.32521, step = 4801 (0.128 sec)\n",
      "INFO:tensorflow:global_step/sec: 674.701\n",
      "INFO:tensorflow:loss = 190.10986, step = 4901 (0.150 sec)\n",
      "INFO:tensorflow:Saving checkpoints for 5000 into /tmp/tmpqhf8x9tp/model.ckpt.\n",
      "INFO:tensorflow:Loss for final step: 138.99539.\n"
     ]
    },
    {
     "data": {
      "text/plain": [
       "<tensorflow.python.estimator.canned.linear.LinearRegressor at 0x7fa1cf21fba8>"
      ]
     },
     "execution_count": 49,
     "metadata": {
      "tags": []
     },
     "output_type": "execute_result"
    }
   ],
   "source": [
    "import  tensorflow  as tf\n",
    "feat_cols = [tf.feature_column.numeric_column(key=\"fpos\"),\n",
    "             tf.feature_column.numeric_column(key=\"fneg\")]\n",
    "model = tf.estimator.LinearRegressor(feature_columns=feat_cols)\n",
    "get_training_data = tf.estimator.inputs.numpy_input_fn(\n",
    "                     x={\"fpos\" : X_train[:,0], \"fneg\" : X_train[:,1]},\n",
    "                     y=Y_train, num_epochs=None, shuffle=True)\n",
    "\n",
    "model.train(input_fn=get_training_data, steps=5000)"
   ]
  },
  {
   "cell_type": "code",
   "execution_count": 52,
   "metadata": {
    "colab": {
     "autoexec": {
      "startup": false,
      "wait_interval": 0
     },
     "base_uri": "https://localhost:8080/",
     "height": 136
    },
    "colab_type": "code",
    "executionInfo": {
     "elapsed": 1575,
     "status": "ok",
     "timestamp": 1533673682634,
     "user": {
      "displayName": "Tatsiana",
      "photoUrl": "//lh6.googleusercontent.com/-fRQ_ImaANlc/AAAAAAAAAAI/AAAAAAAAPWk/gebQb8ZW-aw/s50-c-k-no/photo.jpg",
      "userId": "111934837967779650575"
     },
     "user_tz": 240
    },
    "id": "IbjdLI6gEmDQ",
    "outputId": "5cefeb73-7c08-4408-80c6-b80619de7bf4"
   },
   "outputs": [
    {
     "name": "stdout",
     "output_type": "stream",
     "text": [
      "INFO:tensorflow:Calling model_fn.\n",
      "INFO:tensorflow:Done calling model_fn.\n",
      "INFO:tensorflow:Graph was finalized.\n",
      "INFO:tensorflow:Restoring parameters from /tmp/tmpqhf8x9tp/model.ckpt-5000\n",
      "INFO:tensorflow:Running local_init_op.\n",
      "INFO:tensorflow:Done running local_init_op.\n",
      "The mean absolute error on the training data is 0.845003 stars\n"
     ]
    }
   ],
   "source": [
    "eval_training_data  = tf.estimator.inputs.numpy_input_fn(\n",
    "                     x={\"fpos\":X_train[:,0], \"fneg\": X_train[:,1]},\n",
    "                     num_epochs=1, shuffle=False)\n",
    "pred_train_tf = numpy.array([item['predictions'][0] for item in \n",
    "                         model.predict(input_fn=eval_training_data)])\n",
    "mae_train_tf = mean_absolute_error(pred_train_tf, Y_train)\n",
    "print(\"The mean absolute error on the training data is %f stars\" \n",
    "      % mae_train_tf)"
   ]
  },
  {
   "cell_type": "code",
   "execution_count": 53,
   "metadata": {
    "colab": {
     "autoexec": {
      "startup": false,
      "wait_interval": 0
     },
     "base_uri": "https://localhost:8080/",
     "height": 241
    },
    "colab_type": "code",
    "executionInfo": {
     "elapsed": 350,
     "status": "ok",
     "timestamp": 1533673771050,
     "user": {
      "displayName": "Tatsiana",
      "photoUrl": "//lh6.googleusercontent.com/-fRQ_ImaANlc/AAAAAAAAAAI/AAAAAAAAPWk/gebQb8ZW-aw/s50-c-k-no/photo.jpg",
      "userId": "111934837967779650575"
     },
     "user_tz": 240
    },
    "id": "4rZLJ_2kFH7l",
    "outputId": "619c68bf-65ea-4e27-c497-5b5bbf56336a"
   },
   "outputs": [
    {
     "name": "stdout",
     "output_type": "stream",
     "text": [
      "Sentence = This product wasn't bad.\n",
      "['this', 'product', 'was', \"n't\", 'bad_NEG', '.']\n",
      "Sentence = This is not a bad product.\n",
      "['this', 'is', 'not', 'a_NEG', 'bad_NEG', 'product_NEG', '.']\n",
      "Sentence = This product was bad.\n",
      "['this', 'product', 'was', 'bad', '.']\n",
      "Sentence = This is a bad product.\n",
      "['this', 'is', 'a', 'bad', 'product', '.']\n",
      "This is a wonderful toy that is fun, educational, and affordable! The cars are different colors, and each has a different number, 1 - 4, to help a child learn counting and colors. They also stack on top of each other and nest inside of each other.(The nesting feature is great for storage too). Each car has a neat fun feature for little ones to explore (e.g., the small car is also a rattle, the large fire truck's ladder moves, etc.) The cars are also very sturdy (as has been proven by my son repeatedly banging them together,) and they are easy for little hands to grab onto. At 6 months of age, my son really enjoys looking at the toys, passing them from one hand to the other, banging them together, and, of course, putting them in his mouth. I imagine this toy will remain one of my son's favorites as he learns to stack them and roll them on the floor. I would highly recommend this item.\n",
      "['wonderful', 'toy', 'fun', 'educational', 'affordable', 'cars', 'different', 'colors', 'different', 'number', 'help', 'child', 'learn', 'counting', 'colors', 'also', 'stack', 'top', 'nest', 'inside', 'nesting', 'feature', 'great', 'storage', 'car', 'neat', 'fun', 'feature', 'little', 'ones', 'explore', 'e.g.', 'small', 'car', 'also', 'rattle', 'large', 'fire', 'truck', \"'s\", 'ladder', 'moves', 'etc', 'cars', 'also', 'sturdy', 'proven', 'son', 'repeatedly', 'banging', 'together', 'easy', 'little', 'hands', 'grab', 'onto', 'months', 'age', 'son', 'really', 'enjoys', 'looking', 'toys', 'passing', 'one', 'hand', 'banging', 'together', 'course', 'putting', 'mouth', 'imagine', 'toy', 'remain', 'one', 'son', \"'s\", 'favorites', 'learns', 'stack', 'roll', 'floor', 'would', 'highly', 'recommend', 'item']\n"
     ]
    },
    {
     "name": "stderr",
     "output_type": "stream",
     "text": [
      "/usr/local/lib/python3.6/dist-packages/nltk/twitter/__init__.py:20: UserWarning: The twython library has not been installed. Some functionality from the twitter package will not be available.\n",
      "  warnings.warn(\"The twython library has not been installed. \"\n"
     ]
    }
   ],
   "source": [
    "from nltk.sentiment import SentimentAnalyzer\n",
    "from nltk.sentiment.util import mark_negation\n",
    "examples_negation = [\"This product wasn't bad.\",\n",
    "                     \"This is not a bad product.\",\n",
    "                     \"This product was bad.\",\n",
    "                     \"This is a bad product.\"]\n",
    "\n",
    "for sentence in examples_negation:\n",
    "    tokens_with_negation = mark_negation(word_tokenize(sentence.lower()))\n",
    "    print(\"Sentence =\", sentence)\n",
    "    print(tokens_with_negation)\n",
    "\n",
    "negated_stopwords = set(x+\"_NEG\" for x in eng_stopwords)\n",
    "all_stopwords = eng_stopwords.union(negated_stopwords)        # set union\n",
    "    \n",
    "def tokenize_with_negation(text):\n",
    "    # split text into lower-case tokens, removing all-punctuation tokens and stopwords\n",
    "    tokens = []\n",
    "    for sentence in sent_tokenize(text):\n",
    "        pretokens = word_tokenize(sentence.lower())\n",
    "        pretokens = [x for x in pretokens if any(i.isalpha() for i in x)]\n",
    "        pretokens = mark_negation(pretokens)\n",
    "        tokens.extend(x for x in pretokens if x not in all_stopwords)\n",
    "    return tokens\n",
    "\n",
    "print(baby_train[31]['reviewText'])\n",
    "print(tokenize_with_negation(baby_train[31]['reviewText']))"
   ]
  },
  {
   "cell_type": "code",
   "execution_count": 56,
   "metadata": {
    "colab": {
     "autoexec": {
      "startup": false,
      "wait_interval": 0
     },
     "base_uri": "https://localhost:8080/",
     "height": 51
    },
    "colab_type": "code",
    "executionInfo": {
     "elapsed": 338,
     "status": "ok",
     "timestamp": 1533673862318,
     "user": {
      "displayName": "Tatsiana",
      "photoUrl": "//lh6.googleusercontent.com/-fRQ_ImaANlc/AAAAAAAAAAI/AAAAAAAAPWk/gebQb8ZW-aw/s50-c-k-no/photo.jpg",
      "userId": "111934837967779650575"
     },
     "user_tz": 240
    },
    "id": "aOLYmo7XFTuP",
    "outputId": "95519b2d-ffb1-4621-9e84-6482c1648241"
   },
   "outputs": [
    {
     "name": "stdout",
     "output_type": "stream",
     "text": [
      "(0.8571428571428571, 0.0)\n",
      "(0.0, 0.8571428571428571)\n"
     ]
    }
   ],
   "source": [
    "all_positive_words = pos_words.union({x+\"_NEG\" for x in neg_words})\n",
    "all_negative_words = neg_words.union({x+\"_NEG\" for x in pos_words})\n",
    "\n",
    "def pos_neg_fraction_with_negation(text):\n",
    "    tokens = tokenize_with_negation(text)\n",
    "    # count how many positive and negative words occur in the text\n",
    "    count_pos, count_neg = 0, 0\n",
    "    for t in tokens:\n",
    "        if t in all_positive_words:\n",
    "            count_pos += 1\n",
    "        if t in all_negative_words:\n",
    "            count_neg += 1\n",
    "    count_all = len(tokens)\n",
    "    if count_all != 0:\n",
    "        return count_pos/count_all, count_neg/count_all\n",
    "    else:  # avoid division by zero\n",
    "        return 0., 0.\n",
    "    \n",
    "pos_example = 'This is a good, great, fantastic, amazing, wonderful, super product!!!'\n",
    "neg_example = 'This is a bad, atrocious, terrible, dreadful, awful, abysmal product!!!'\n",
    "print(pos_neg_fraction_with_negation(pos_example))\n",
    "print(pos_neg_fraction_with_negation(neg_example))"
   ]
  },
  {
   "cell_type": "code",
   "execution_count": 57,
   "metadata": {
    "colab": {
     "autoexec": {
      "startup": false,
      "wait_interval": 0
     },
     "base_uri": "https://localhost:8080/",
     "height": 51
    },
    "colab_type": "code",
    "executionInfo": {
     "elapsed": 469,
     "status": "ok",
     "timestamp": 1533673903364,
     "user": {
      "displayName": "Tatsiana",
      "photoUrl": "//lh6.googleusercontent.com/-fRQ_ImaANlc/AAAAAAAAAAI/AAAAAAAAPWk/gebQb8ZW-aw/s50-c-k-no/photo.jpg",
      "userId": "111934837967779650575"
     },
     "user_tz": 240
    },
    "id": "67z6YniJFoQg",
    "outputId": "a165913a-f226-4051-f7c3-489fd524a46d"
   },
   "outputs": [
    {
     "name": "stdout",
     "output_type": "stream",
     "text": [
      "(0.0, 0.8571428571428571)\n",
      "(0.8571428571428571, 0.0)\n"
     ]
    }
   ],
   "source": [
    "pos_example_neg = 'This is not a good, great, fantastic, amazing, wonderful, super product!!!'\n",
    "neg_example_neg = 'This is not a bad, atrocious, terrible, dreadful, awful, abysmal product!!!'\n",
    "print(pos_neg_fraction_with_negation(pos_example_neg))\n",
    "print(pos_neg_fraction_with_negation(neg_example_neg))"
   ]
  },
  {
   "cell_type": "code",
   "execution_count": 0,
   "metadata": {
    "colab": {
     "autoexec": {
      "startup": false,
      "wait_interval": 0
     }
    },
    "colab_type": "code",
    "id": "o8u2PIjfFqA5"
   },
   "outputs": [],
   "source": [
    "def dataset_to_matrix_with_neg(data):\n",
    "    return numpy.array([list(pos_neg_fraction_with_negation(item['reviewText'])) for item in data])\n",
    "\n",
    "X_train_neg = dataset_to_matrix_with_neg(baby_train)"
   ]
  },
  {
   "cell_type": "code",
   "execution_count": 61,
   "metadata": {
    "colab": {
     "autoexec": {
      "startup": false,
      "wait_interval": 0
     },
     "base_uri": "https://localhost:8080/",
     "height": 34
    },
    "colab_type": "code",
    "executionInfo": {
     "elapsed": 331,
     "status": "ok",
     "timestamp": 1533674109945,
     "user": {
      "displayName": "Tatsiana",
      "photoUrl": "//lh6.googleusercontent.com/-fRQ_ImaANlc/AAAAAAAAAAI/AAAAAAAAPWk/gebQb8ZW-aw/s50-c-k-no/photo.jpg",
      "userId": "111934837967779650575"
     },
     "user_tz": 240
    },
    "id": "EBXEFMV0FoOq",
    "outputId": "c55331b2-b264-4db7-c382-7a3a05caef25"
   },
   "outputs": [
    {
     "name": "stdout",
     "output_type": "stream",
     "text": [
      "Now the mean absolute error on the training data is 0.811442 stars\n"
     ]
    }
   ],
   "source": [
    "lreg_neg = LinearRegression().fit(X_train_neg, Y_train)\n",
    "pred_train_neg = lreg_neg.predict(X_train_neg)\n",
    "mae_train_with_neg = mean_absolute_error(pred_train_neg, Y_train)\n",
    "print(\"Now the mean absolute error on the training data is %f stars\" % mae_train_with_neg)"
   ]
  },
  {
   "cell_type": "code",
   "execution_count": 62,
   "metadata": {
    "colab": {
     "autoexec": {
      "startup": false,
      "wait_interval": 0
     },
     "base_uri": "https://localhost:8080/",
     "height": 34
    },
    "colab_type": "code",
    "executionInfo": {
     "elapsed": 1586,
     "status": "ok",
     "timestamp": 1533674150057,
     "user": {
      "displayName": "Tatsiana",
      "photoUrl": "//lh6.googleusercontent.com/-fRQ_ImaANlc/AAAAAAAAAAI/AAAAAAAAPWk/gebQb8ZW-aw/s50-c-k-no/photo.jpg",
      "userId": "111934837967779650575"
     },
     "user_tz": 240
    },
    "id": "2bd9BYE8FTsm",
    "outputId": "b0ec5131-c36e-4b2b-d94e-b7b6633558b7"
   },
   "outputs": [
    {
     "name": "stdout",
     "output_type": "stream",
     "text": [
      "A nonlinear regressor achieves a MAE of 0.711933 stars\n"
     ]
    }
   ],
   "source": [
    "from sklearn.ensemble import RandomForestRegressor\n",
    "rf_neg = RandomForestRegressor().fit(X_train_neg, Y_train)\n",
    "pred_train_rf_neg = rf_neg.predict(X_train_neg)\n",
    "mae_train_rf_neg = mean_absolute_error(pred_train_rf_neg, Y_train)\n",
    "print(\"A nonlinear regressor achieves a MAE of %f stars\" % mae_train_rf_neg)"
   ]
  },
  {
   "cell_type": "code",
   "execution_count": null,
   "metadata": {},
   "outputs": [],
   "source": []
  },
  {
   "cell_type": "code",
   "execution_count": null,
   "metadata": {},
   "outputs": [],
   "source": []
  },
  {
   "cell_type": "code",
   "execution_count": null,
   "metadata": {},
   "outputs": [],
   "source": []
  },
  {
   "cell_type": "code",
   "execution_count": null,
   "metadata": {},
   "outputs": [],
   "source": []
  },
  {
   "cell_type": "code",
   "execution_count": null,
   "metadata": {},
   "outputs": [],
   "source": []
  }
 ],
 "metadata": {
  "colab": {
   "collapsed_sections": [],
   "default_view": {},
   "name": "Day1-Baby.ipynb",
   "provenance": [],
   "version": "0.3.2",
   "views": {}
  },
  "kernelspec": {
   "display_name": "Python 3",
   "language": "python",
   "name": "python3"
  },
  "language_info": {
   "codemirror_mode": {
    "name": "ipython",
    "version": 3
   },
   "file_extension": ".py",
   "mimetype": "text/x-python",
   "name": "python",
   "nbconvert_exporter": "python",
   "pygments_lexer": "ipython3",
   "version": "3.7.0"
  }
 },
 "nbformat": 4,
 "nbformat_minor": 1
}
